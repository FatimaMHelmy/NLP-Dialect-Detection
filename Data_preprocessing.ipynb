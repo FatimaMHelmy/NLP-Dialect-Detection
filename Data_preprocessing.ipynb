{
  "nbformat": 4,
  "nbformat_minor": 0,
  "metadata": {
    "colab": {
      "provenance": [],
      "collapsed_sections": [
        "qCfJvUlHD8P-",
        "gD6bpYniAN8N",
        "UfLnPYT3HFn_",
        "eDE-ONxRmz8I",
        "nZvLiIykAZo7",
        "ltPi9KW1LlDB"
      ]
    },
    "kernelspec": {
      "name": "python3",
      "display_name": "Python 3"
    },
    "language_info": {
      "name": "python"
    }
  },
  "cells": [
    {
      "cell_type": "markdown",
      "source": [
        "## Import required libaries"
      ],
      "metadata": {
        "id": "qCfJvUlHD8P-"
      }
    },
    {
      "cell_type": "code",
      "source": [
        "pip install camel_tools"
      ],
      "metadata": {
        "colab": {
          "base_uri": "https://localhost:8080/"
        },
        "id": "88FhT9r-fllI",
        "outputId": "64fe4318-bbc6-4869-d495-b7aca46a6764"
      },
      "execution_count": 1,
      "outputs": [
        {
          "output_type": "stream",
          "name": "stdout",
          "text": [
            "Looking in indexes: https://pypi.org/simple, https://us-python.pkg.dev/colab-wheels/public/simple/\n",
            "Collecting camel_tools\n",
            "  Downloading camel_tools-1.5.2-py3-none-any.whl (124 kB)\n",
            "\u001b[2K     \u001b[90m━━━━━━━━━━━━━━━━━━━━━━━━━━━━━━━━━━━━━━\u001b[0m \u001b[32m124.3/124.3 kB\u001b[0m \u001b[31m11.0 MB/s\u001b[0m eta \u001b[36m0:00:00\u001b[0m\n",
            "\u001b[?25hCollecting transformers>=3.0.2\n",
            "  Downloading transformers-4.28.1-py3-none-any.whl (7.0 MB)\n",
            "\u001b[2K     \u001b[90m━━━━━━━━━━━━━━━━━━━━━━━━━━━━━━━━━━━━━━━━\u001b[0m \u001b[32m7.0/7.0 MB\u001b[0m \u001b[31m116.7 MB/s\u001b[0m eta \u001b[36m0:00:00\u001b[0m\n",
            "\u001b[?25hRequirement already satisfied: pandas in /usr/local/lib/python3.10/dist-packages (from camel_tools) (1.5.3)\n",
            "Requirement already satisfied: tqdm in /usr/local/lib/python3.10/dist-packages (from camel_tools) (4.65.0)\n",
            "Collecting muddler\n",
            "  Downloading muddler-0.1.3-py3-none-any.whl (16 kB)\n",
            "Collecting dill\n",
            "  Downloading dill-0.3.6-py3-none-any.whl (110 kB)\n",
            "\u001b[2K     \u001b[90m━━━━━━━━━━━━━━━━━━━━━━━━━━━━━━━━━━━━━━\u001b[0m \u001b[32m110.5/110.5 kB\u001b[0m \u001b[31m12.9 MB/s\u001b[0m eta \u001b[36m0:00:00\u001b[0m\n",
            "\u001b[?25hRequirement already satisfied: tabulate in /usr/local/lib/python3.10/dist-packages (from camel_tools) (0.8.10)\n",
            "Requirement already satisfied: editdistance in /usr/local/lib/python3.10/dist-packages (from camel_tools) (0.6.2)\n",
            "Collecting docopt\n",
            "  Downloading docopt-0.6.2.tar.gz (25 kB)\n",
            "  Preparing metadata (setup.py) ... \u001b[?25l\u001b[?25hdone\n",
            "Requirement already satisfied: cachetools in /usr/local/lib/python3.10/dist-packages (from camel_tools) (5.3.0)\n",
            "Requirement already satisfied: pyrsistent in /usr/local/lib/python3.10/dist-packages (from camel_tools) (0.19.3)\n",
            "Requirement already satisfied: torch>=1.3 in /usr/local/lib/python3.10/dist-packages (from camel_tools) (2.0.0+cu118)\n",
            "Requirement already satisfied: scipy in /usr/local/lib/python3.10/dist-packages (from camel_tools) (1.10.1)\n",
            "Requirement already satisfied: numpy in /usr/local/lib/python3.10/dist-packages (from camel_tools) (1.22.4)\n",
            "Requirement already satisfied: future in /usr/local/lib/python3.10/dist-packages (from camel_tools) (0.18.3)\n",
            "Requirement already satisfied: requests in /usr/local/lib/python3.10/dist-packages (from camel_tools) (2.27.1)\n",
            "Requirement already satisfied: scikit-learn in /usr/local/lib/python3.10/dist-packages (from camel_tools) (1.2.2)\n",
            "Requirement already satisfied: six in /usr/local/lib/python3.10/dist-packages (from camel_tools) (1.16.0)\n",
            "Collecting emoji\n",
            "  Downloading emoji-2.2.0.tar.gz (240 kB)\n",
            "\u001b[2K     \u001b[90m━━━━━━━━━━━━━━━━━━━━━━━━━━━━━━━━━━━━━━\u001b[0m \u001b[32m240.9/240.9 kB\u001b[0m \u001b[31m20.1 MB/s\u001b[0m eta \u001b[36m0:00:00\u001b[0m\n",
            "\u001b[?25h  Preparing metadata (setup.py) ... \u001b[?25l\u001b[?25hdone\n",
            "Collecting camel-kenlm>=2023.3.17.2\n",
            "  Downloading camel-kenlm-2023.3.17.2.tar.gz (426 kB)\n",
            "\u001b[2K     \u001b[90m━━━━━━━━━━━━━━━━━━━━━━━━━━━━━━━━━━━━━━\u001b[0m \u001b[32m426.6/426.6 kB\u001b[0m \u001b[31m38.4 MB/s\u001b[0m eta \u001b[36m0:00:00\u001b[0m\n",
            "\u001b[?25h  Installing build dependencies ... \u001b[?25l\u001b[?25hdone\n",
            "  Getting requirements to build wheel ... \u001b[?25l\u001b[?25hdone\n",
            "  Preparing metadata (pyproject.toml) ... \u001b[?25l\u001b[?25hdone\n",
            "Requirement already satisfied: filelock in /usr/local/lib/python3.10/dist-packages (from torch>=1.3->camel_tools) (3.12.0)\n",
            "Requirement already satisfied: sympy in /usr/local/lib/python3.10/dist-packages (from torch>=1.3->camel_tools) (1.11.1)\n",
            "Requirement already satisfied: networkx in /usr/local/lib/python3.10/dist-packages (from torch>=1.3->camel_tools) (3.1)\n",
            "Requirement already satisfied: jinja2 in /usr/local/lib/python3.10/dist-packages (from torch>=1.3->camel_tools) (3.1.2)\n",
            "Requirement already satisfied: triton==2.0.0 in /usr/local/lib/python3.10/dist-packages (from torch>=1.3->camel_tools) (2.0.0)\n",
            "Requirement already satisfied: typing-extensions in /usr/local/lib/python3.10/dist-packages (from torch>=1.3->camel_tools) (4.5.0)\n",
            "Requirement already satisfied: cmake in /usr/local/lib/python3.10/dist-packages (from triton==2.0.0->torch>=1.3->camel_tools) (3.25.2)\n",
            "Requirement already satisfied: lit in /usr/local/lib/python3.10/dist-packages (from triton==2.0.0->torch>=1.3->camel_tools) (16.0.2)\n",
            "Requirement already satisfied: packaging>=20.0 in /usr/local/lib/python3.10/dist-packages (from transformers>=3.0.2->camel_tools) (23.1)\n",
            "Requirement already satisfied: regex!=2019.12.17 in /usr/local/lib/python3.10/dist-packages (from transformers>=3.0.2->camel_tools) (2022.10.31)\n",
            "Collecting huggingface-hub<1.0,>=0.11.0\n",
            "  Downloading huggingface_hub-0.14.1-py3-none-any.whl (224 kB)\n",
            "\u001b[2K     \u001b[90m━━━━━━━━━━━━━━━━━━━━━━━━━━━━━━━━━━━━━━\u001b[0m \u001b[32m224.5/224.5 kB\u001b[0m \u001b[31m16.5 MB/s\u001b[0m eta \u001b[36m0:00:00\u001b[0m\n",
            "\u001b[?25hCollecting tokenizers!=0.11.3,<0.14,>=0.11.1\n",
            "  Downloading tokenizers-0.13.3-cp310-cp310-manylinux_2_17_x86_64.manylinux2014_x86_64.whl (7.8 MB)\n",
            "\u001b[2K     \u001b[90m━━━━━━━━━━━━━━━━━━━━━━━━━━━━━━━━━━━━━━━━\u001b[0m \u001b[32m7.8/7.8 MB\u001b[0m \u001b[31m31.8 MB/s\u001b[0m eta \u001b[36m0:00:00\u001b[0m\n",
            "\u001b[?25hRequirement already satisfied: pyyaml>=5.1 in /usr/local/lib/python3.10/dist-packages (from transformers>=3.0.2->camel_tools) (6.0)\n",
            "Requirement already satisfied: pytz>=2020.1 in /usr/local/lib/python3.10/dist-packages (from pandas->camel_tools) (2022.7.1)\n",
            "Requirement already satisfied: python-dateutil>=2.8.1 in /usr/local/lib/python3.10/dist-packages (from pandas->camel_tools) (2.8.2)\n",
            "Requirement already satisfied: certifi>=2017.4.17 in /usr/local/lib/python3.10/dist-packages (from requests->camel_tools) (2022.12.7)\n",
            "Requirement already satisfied: charset-normalizer~=2.0.0 in /usr/local/lib/python3.10/dist-packages (from requests->camel_tools) (2.0.12)\n",
            "Requirement already satisfied: urllib3<1.27,>=1.21.1 in /usr/local/lib/python3.10/dist-packages (from requests->camel_tools) (1.26.15)\n",
            "Requirement already satisfied: idna<4,>=2.5 in /usr/local/lib/python3.10/dist-packages (from requests->camel_tools) (3.4)\n",
            "Requirement already satisfied: joblib>=1.1.1 in /usr/local/lib/python3.10/dist-packages (from scikit-learn->camel_tools) (1.2.0)\n",
            "Requirement already satisfied: threadpoolctl>=2.0.0 in /usr/local/lib/python3.10/dist-packages (from scikit-learn->camel_tools) (3.1.0)\n",
            "Requirement already satisfied: fsspec in /usr/local/lib/python3.10/dist-packages (from huggingface-hub<1.0,>=0.11.0->transformers>=3.0.2->camel_tools) (2023.4.0)\n",
            "Requirement already satisfied: MarkupSafe>=2.0 in /usr/local/lib/python3.10/dist-packages (from jinja2->torch>=1.3->camel_tools) (2.1.2)\n",
            "Requirement already satisfied: mpmath>=0.19 in /usr/local/lib/python3.10/dist-packages (from sympy->torch>=1.3->camel_tools) (1.3.0)\n",
            "Building wheels for collected packages: camel-kenlm, docopt, emoji\n",
            "  Building wheel for camel-kenlm (pyproject.toml) ... \u001b[?25l\u001b[?25hdone\n",
            "  Created wheel for camel-kenlm: filename=camel_kenlm-2023.3.17.2-cp310-cp310-linux_x86_64.whl size=3536794 sha256=8aec7645431e3882fb50f1d4424dbbbf18ede2af3a959b5632d34276bbbd5cc3\n",
            "  Stored in directory: /root/.cache/pip/wheels/29/c5/32/09633c3b70fdfc470b2fb912bd9e90d8d6814df68c794dcaa6\n",
            "  Building wheel for docopt (setup.py) ... \u001b[?25l\u001b[?25hdone\n",
            "  Created wheel for docopt: filename=docopt-0.6.2-py2.py3-none-any.whl size=13721 sha256=a7182f7d4c77c51fe669b2231ee44bfc95d366cc146f910e2fe56f8fd741325c\n",
            "  Stored in directory: /root/.cache/pip/wheels/fc/ab/d4/5da2067ac95b36618c629a5f93f809425700506f72c9732fac\n",
            "  Building wheel for emoji (setup.py) ... \u001b[?25l\u001b[?25hdone\n",
            "  Created wheel for emoji: filename=emoji-2.2.0-py3-none-any.whl size=234926 sha256=87d83d4999af1738ad3cbd2384e3f39713a858429e5ac6b18ac7279e3e0604ac\n",
            "  Stored in directory: /root/.cache/pip/wheels/02/3d/88/51a592b9ad17e7899126563698b4e3961983ebe85747228ba6\n",
            "Successfully built camel-kenlm docopt emoji\n",
            "Installing collected packages: tokenizers, docopt, camel-kenlm, muddler, emoji, dill, huggingface-hub, transformers, camel_tools\n",
            "Successfully installed camel-kenlm-2023.3.17.2 camel_tools-1.5.2 dill-0.3.6 docopt-0.6.2 emoji-2.2.0 huggingface-hub-0.14.1 muddler-0.1.3 tokenizers-0.13.3 transformers-4.28.1\n"
          ]
        }
      ]
    },
    {
      "cell_type": "code",
      "source": [
        "pip install pyarabic"
      ],
      "metadata": {
        "colab": {
          "base_uri": "https://localhost:8080/"
        },
        "id": "SUNuS_ofhnC9",
        "outputId": "beda2fe5-bb87-466e-deff-abba2154ddea"
      },
      "execution_count": 2,
      "outputs": [
        {
          "output_type": "stream",
          "name": "stdout",
          "text": [
            "Looking in indexes: https://pypi.org/simple, https://us-python.pkg.dev/colab-wheels/public/simple/\n",
            "Collecting pyarabic\n",
            "  Downloading PyArabic-0.6.15-py3-none-any.whl (126 kB)\n",
            "\u001b[2K     \u001b[90m━━━━━━━━━━━━━━━━━━━━━━━━━━━━━━━━━━━━━━\u001b[0m \u001b[32m126.4/126.4 kB\u001b[0m \u001b[31m11.7 MB/s\u001b[0m eta \u001b[36m0:00:00\u001b[0m\n",
            "\u001b[?25hRequirement already satisfied: six>=1.14.0 in /usr/local/lib/python3.10/dist-packages (from pyarabic) (1.16.0)\n",
            "Installing collected packages: pyarabic\n",
            "Successfully installed pyarabic-0.6.15\n"
          ]
        }
      ]
    },
    {
      "cell_type": "code",
      "execution_count": 3,
      "metadata": {
        "id": "K4xBaHVBQ_kl"
      },
      "outputs": [],
      "source": [
        "import pandas as pd \n",
        "import numpy as np\n",
        "import matplotlib.pyplot as plt\n",
        "import seaborn as sns\n",
        "from collections import Counter\n",
        "import matplotlib.pyplot as plt\n",
        "import matplotlib.cm as cm\n",
        "\n",
        "\n",
        "import scipy.sparse\n",
        "import re\n",
        "import string\n",
        "import pyarabic.araby as araby\n",
        "import nltk\n",
        "from nltk.corpus import stopwords\n",
        "import textblob\n",
        "from textblob import Word\n",
        "from sklearn import preprocessing\n",
        "\n",
        "from wordcloud import WordCloud\n",
        "import camel_tools\n",
        "import warnings\n",
        "from camel_tools.utils.dediac import dediac_safebw\n",
        "from camel_tools.utils.charmap import CharMapper\n",
        "from camel_tools.utils.transliterate import Transliterator\n",
        "from sklearn.feature_extraction.text import TfidfVectorizer"
      ]
    },
    {
      "cell_type": "markdown",
      "source": [
        "## Define Functions for Pre-processing"
      ],
      "metadata": {
        "id": "gD6bpYniAN8N"
      }
    },
    {
      "cell_type": "code",
      "source": [
        "def remove_punctuations(text):\n",
        "    translator = str.maketrans('', '', punctuations_list)\n",
        "    return text.translate(translator)"
      ],
      "metadata": {
        "id": "JcFJ7Mfmodfy"
      },
      "execution_count": 4,
      "outputs": []
    },
    {
      "cell_type": "code",
      "source": [
        "def remove_emoji(string):\n",
        "    emoji_pattern = re.compile(\"[\"\n",
        "                               u\"\\U0001F600-\\U0001F64F\"  # emoticons\n",
        "                               u\"\\U0001F300-\\U0001F5FF\"  # symbols & pictographs\n",
        "                               u\"\\U0001F680-\\U0001F6FF\"  # transport & map symbols\n",
        "                               u\"\\U0001F1E0-\\U0001F1FF\"  # flags (iOS)\n",
        "                               u\"\\U00002500-\\U00002BEF\"  # chinese char\n",
        "                               u\"\\U00002702-\\U000027B0\"\n",
        "                               u\"\\U00002702-\\U000027B0\"\n",
        "                               u\"\\U000024C2-\\U0001F251\"\n",
        "                               u\"\\U0001f926-\\U0001f937\"\n",
        "                               u\"\\U00010000-\\U0010ffff\"\n",
        "                               u\"\\u2640-\\u2642\"\n",
        "                               u\"\\u2600-\\u2B55\"\n",
        "                               u\"\\u200d\"\n",
        "                               u\"\\u23cf\"\n",
        "                               u\"\\u23e9\"\n",
        "                               u\"\\u231a\"\n",
        "                               u\"\\ufe0f\"  # dingbats\n",
        "                               u\"\\u3030\"\n",
        "                               \"]+\", flags=re.UNICODE)\n",
        "    return emoji_pattern.sub(r'', string)"
      ],
      "metadata": {
        "id": "liFr2oyWpn30"
      },
      "execution_count": 5,
      "outputs": []
    },
    {
      "cell_type": "code",
      "source": [
        "def remove_diacritics(text):\n",
        "    arabic_diacritics = re.compile(\"\"\"\n",
        "                             ّ    | # Tashdid\n",
        "                             َ    | # Fatha\n",
        "                             ً    | # Tanwin Fath\n",
        "                             ُ    | # Damma\n",
        "                             ٌ    | # Tanwin Damm\n",
        "                             ِ    | # Kasra\n",
        "                             ٍ    | # Tanwin Kasr\n",
        "                             ْ    | # Sukun\n",
        "                             ـ     # Tatwil/Kashida\n",
        "                         \"\"\", re.VERBOSE)\n",
        "    text = re.sub(arabic_diacritics, '', text)\n",
        "    text = araby.strip_diacritics(text)\n",
        "    text = araby.strip_shadda(text)\n",
        "    text = araby.strip_tashkeel(text)\n",
        "    return text"
      ],
      "metadata": {
        "id": "N3CXt65LrGYs"
      },
      "execution_count": 6,
      "outputs": []
    },
    {
      "cell_type": "markdown",
      "source": [
        "The presence of Latin characters will mess with transliteration later on.\n",
        "\n",
        "so, we should remove them.\n",
        "also, remove linsk (https), Hashtages and digits."
      ],
      "metadata": {
        "id": "Rf1I_M-vGMv9"
      }
    },
    {
      "cell_type": "code",
      "source": [
        "def remove_non_arabic(text):\n",
        "    text = re.sub('[%s]' % re.escape(\"\"\"!\"#$%&'()*+,،-./:;<=>؟?@[\\]^_`{|}~\"\"\"), ' ', text)\n",
        "    text = re.sub('([@A-Za-z0-9_ـــــــــــــ]+)|[^\\w\\s]|#|http\\S+',' ',text)\n",
        "    text = re.sub(r'\\\\u[A-Za-z0-9\\\\]+',' ',text)\n",
        "    return text"
      ],
      "metadata": {
        "id": "8MpTuHVcrlqQ"
      },
      "execution_count": 7,
      "outputs": []
    },
    {
      "cell_type": "code",
      "source": [
        "def remove_repeating_characters(text):\n",
        "    text = text.strip()\n",
        "    text = re.sub(\"[إأٱآا]\", \"ا\", text)\n",
        "    text = re.sub(\"ى\", \"ي\", text)\n",
        "    text = re.sub(\"ؤ\", \"ء\", text)\n",
        "    text = re.sub(\"ئ\", \"ء\", text)\n",
        "    text = re.sub(\"ة\", \"ه\", text)\n",
        "    #text = re.sub(r'(.)\\1+', r'\\1', text)\n",
        "    text = re.sub(r'(.)\\1{2,}', r'\\1\\1', text)\n",
        "    return text"
      ],
      "metadata": {
        "id": "iXH121hJsFVV"
      },
      "execution_count": 8,
      "outputs": []
    },
    {
      "cell_type": "markdown",
      "source": [
        "## Read Data"
      ],
      "metadata": {
        "id": "UfLnPYT3HFn_"
      }
    },
    {
      "cell_type": "code",
      "source": [
        "data = pd.read_csv('/content/drive/MyDrive/Data.csv', encoding='utf-8',lineterminator='\\n')"
      ],
      "metadata": {
        "id": "DRDvltA6RhrI"
      },
      "execution_count": 9,
      "outputs": []
    },
    {
      "cell_type": "code",
      "source": [
        "data['text'] = data['text'].astype(str)"
      ],
      "metadata": {
        "id": "Dmx5GrD4y9RH"
      },
      "execution_count": 10,
      "outputs": []
    },
    {
      "cell_type": "code",
      "source": [
        "data.info()"
      ],
      "metadata": {
        "colab": {
          "base_uri": "https://localhost:8080/"
        },
        "id": "s7LOaNQ0zC7e",
        "outputId": "110c16b9-8683-44bc-f948-fe2329447d47"
      },
      "execution_count": 11,
      "outputs": [
        {
          "output_type": "stream",
          "name": "stdout",
          "text": [
            "<class 'pandas.core.frame.DataFrame'>\n",
            "RangeIndex: 147725 entries, 0 to 147724\n",
            "Data columns (total 2 columns):\n",
            " #   Column   Non-Null Count   Dtype \n",
            "---  ------   --------------   ----- \n",
            " 0   text     147725 non-null  object\n",
            " 1   dialect  147725 non-null  object\n",
            "dtypes: object(2)\n",
            "memory usage: 2.3+ MB\n"
          ]
        }
      ]
    },
    {
      "cell_type": "code",
      "source": [
        "data.shape"
      ],
      "metadata": {
        "id": "RkTAuRq-TnDk",
        "colab": {
          "base_uri": "https://localhost:8080/"
        },
        "outputId": "04cdf024-a073-45b1-dc46-0e42efff944f"
      },
      "execution_count": 12,
      "outputs": [
        {
          "output_type": "execute_result",
          "data": {
            "text/plain": [
              "(147725, 2)"
            ]
          },
          "metadata": {},
          "execution_count": 12
        }
      ]
    },
    {
      "cell_type": "code",
      "source": [
        "data.head(20)"
      ],
      "metadata": {
        "colab": {
          "base_uri": "https://localhost:8080/",
          "height": 676
        },
        "id": "B2RBPuXJwdIO",
        "outputId": "ef4f57ba-71a9-48ad-9b62-17bb4ca95b93"
      },
      "execution_count": 13,
      "outputs": [
        {
          "output_type": "execute_result",
          "data": {
            "text/plain": [
              "                                                 text dialect\n",
              "0   @toha_Altomy @gy_yah قليلين ادب ومنافقين. لو ا...      LY\n",
              "1   @AlmFaisal 😂😂 الليبيين متقلبين!!!\\nبس بالنسبة ...      LY\n",
              "2   @smsm071990 @ALMOGRBE كل 20 تانيه شاب ليبي بير...      LY\n",
              "3   @AboryPro @lyranoo85 رانيا عقليتك متخلفة. اولا...      LY\n",
              "4   @lyranoo85 شكلك متعقدة علشان الراجل لي تحبيه ا...      LY\n",
              "5   @alibobkr63 او حتى من اي دين او طائفة. اسف ممك...      LY\n",
              "6      @muhamed01111 باهي نستنوه. بلكي مشغول ولا حاجة      LY\n",
              "7   @muhamed01111 مهما اختلفنا راه نحنا خوت. والله...      LY\n",
              "8   @muhamed01111 بالنسبة ليا انا والله شبعت هم ون...      LY\n",
              "9   @Ajo32asLibya @Jed_ly مو نحنا الحياة عندنا مية...      LY\n",
              "10  @Fabbenghazi تبي تقضي على متطرفين باهي بس متظل...      LY\n",
              "11  @aldocosta0701 @libyanelshiply ان شاءالله توة ...      LY\n",
              "12  @koshalata_ly هذي التغريدة تفضلي اقريها من جدي...      LY\n",
              "13  @koshalata_ly توة تحرضي للعنف وتقولي ان فكرك م...      LY\n",
              "14  @b___82 اوكي يحجزوهم لعند منقدروا نحاكموهم. بس...      LY\n",
              "15  @Aljweli @LNASpox @lnaspox_ar باهي لازم يحكموه...      LY\n",
              "16  @Aljweli @LNASpox @lnaspox_ar انا مية في المية...      LY\n",
              "17  @libyanelshiply حسب الخبر هضا الموضوع اشاعات ب...      LY\n",
              "18  @_najatahmed_ فالحين بس في دك خشومهم في السياس...      LY\n",
              "19  @saki_fallah بس انا مش حنعطي ولا واحد منهم اكث...      LY"
            ],
            "text/html": [
              "\n",
              "  <div id=\"df-fd6b4dbf-a43b-4e79-96b6-25f473e47098\">\n",
              "    <div class=\"colab-df-container\">\n",
              "      <div>\n",
              "<style scoped>\n",
              "    .dataframe tbody tr th:only-of-type {\n",
              "        vertical-align: middle;\n",
              "    }\n",
              "\n",
              "    .dataframe tbody tr th {\n",
              "        vertical-align: top;\n",
              "    }\n",
              "\n",
              "    .dataframe thead th {\n",
              "        text-align: right;\n",
              "    }\n",
              "</style>\n",
              "<table border=\"1\" class=\"dataframe\">\n",
              "  <thead>\n",
              "    <tr style=\"text-align: right;\">\n",
              "      <th></th>\n",
              "      <th>text</th>\n",
              "      <th>dialect</th>\n",
              "    </tr>\n",
              "  </thead>\n",
              "  <tbody>\n",
              "    <tr>\n",
              "      <th>0</th>\n",
              "      <td>@toha_Altomy @gy_yah قليلين ادب ومنافقين. لو ا...</td>\n",
              "      <td>LY</td>\n",
              "    </tr>\n",
              "    <tr>\n",
              "      <th>1</th>\n",
              "      <td>@AlmFaisal 😂😂 الليبيين متقلبين!!!\\nبس بالنسبة ...</td>\n",
              "      <td>LY</td>\n",
              "    </tr>\n",
              "    <tr>\n",
              "      <th>2</th>\n",
              "      <td>@smsm071990 @ALMOGRBE كل 20 تانيه شاب ليبي بير...</td>\n",
              "      <td>LY</td>\n",
              "    </tr>\n",
              "    <tr>\n",
              "      <th>3</th>\n",
              "      <td>@AboryPro @lyranoo85 رانيا عقليتك متخلفة. اولا...</td>\n",
              "      <td>LY</td>\n",
              "    </tr>\n",
              "    <tr>\n",
              "      <th>4</th>\n",
              "      <td>@lyranoo85 شكلك متعقدة علشان الراجل لي تحبيه ا...</td>\n",
              "      <td>LY</td>\n",
              "    </tr>\n",
              "    <tr>\n",
              "      <th>5</th>\n",
              "      <td>@alibobkr63 او حتى من اي دين او طائفة. اسف ممك...</td>\n",
              "      <td>LY</td>\n",
              "    </tr>\n",
              "    <tr>\n",
              "      <th>6</th>\n",
              "      <td>@muhamed01111 باهي نستنوه. بلكي مشغول ولا حاجة</td>\n",
              "      <td>LY</td>\n",
              "    </tr>\n",
              "    <tr>\n",
              "      <th>7</th>\n",
              "      <td>@muhamed01111 مهما اختلفنا راه نحنا خوت. والله...</td>\n",
              "      <td>LY</td>\n",
              "    </tr>\n",
              "    <tr>\n",
              "      <th>8</th>\n",
              "      <td>@muhamed01111 بالنسبة ليا انا والله شبعت هم ون...</td>\n",
              "      <td>LY</td>\n",
              "    </tr>\n",
              "    <tr>\n",
              "      <th>9</th>\n",
              "      <td>@Ajo32asLibya @Jed_ly مو نحنا الحياة عندنا مية...</td>\n",
              "      <td>LY</td>\n",
              "    </tr>\n",
              "    <tr>\n",
              "      <th>10</th>\n",
              "      <td>@Fabbenghazi تبي تقضي على متطرفين باهي بس متظل...</td>\n",
              "      <td>LY</td>\n",
              "    </tr>\n",
              "    <tr>\n",
              "      <th>11</th>\n",
              "      <td>@aldocosta0701 @libyanelshiply ان شاءالله توة ...</td>\n",
              "      <td>LY</td>\n",
              "    </tr>\n",
              "    <tr>\n",
              "      <th>12</th>\n",
              "      <td>@koshalata_ly هذي التغريدة تفضلي اقريها من جدي...</td>\n",
              "      <td>LY</td>\n",
              "    </tr>\n",
              "    <tr>\n",
              "      <th>13</th>\n",
              "      <td>@koshalata_ly توة تحرضي للعنف وتقولي ان فكرك م...</td>\n",
              "      <td>LY</td>\n",
              "    </tr>\n",
              "    <tr>\n",
              "      <th>14</th>\n",
              "      <td>@b___82 اوكي يحجزوهم لعند منقدروا نحاكموهم. بس...</td>\n",
              "      <td>LY</td>\n",
              "    </tr>\n",
              "    <tr>\n",
              "      <th>15</th>\n",
              "      <td>@Aljweli @LNASpox @lnaspox_ar باهي لازم يحكموه...</td>\n",
              "      <td>LY</td>\n",
              "    </tr>\n",
              "    <tr>\n",
              "      <th>16</th>\n",
              "      <td>@Aljweli @LNASpox @lnaspox_ar انا مية في المية...</td>\n",
              "      <td>LY</td>\n",
              "    </tr>\n",
              "    <tr>\n",
              "      <th>17</th>\n",
              "      <td>@libyanelshiply حسب الخبر هضا الموضوع اشاعات ب...</td>\n",
              "      <td>LY</td>\n",
              "    </tr>\n",
              "    <tr>\n",
              "      <th>18</th>\n",
              "      <td>@_najatahmed_ فالحين بس في دك خشومهم في السياس...</td>\n",
              "      <td>LY</td>\n",
              "    </tr>\n",
              "    <tr>\n",
              "      <th>19</th>\n",
              "      <td>@saki_fallah بس انا مش حنعطي ولا واحد منهم اكث...</td>\n",
              "      <td>LY</td>\n",
              "    </tr>\n",
              "  </tbody>\n",
              "</table>\n",
              "</div>\n",
              "      <button class=\"colab-df-convert\" onclick=\"convertToInteractive('df-fd6b4dbf-a43b-4e79-96b6-25f473e47098')\"\n",
              "              title=\"Convert this dataframe to an interactive table.\"\n",
              "              style=\"display:none;\">\n",
              "        \n",
              "  <svg xmlns=\"http://www.w3.org/2000/svg\" height=\"24px\"viewBox=\"0 0 24 24\"\n",
              "       width=\"24px\">\n",
              "    <path d=\"M0 0h24v24H0V0z\" fill=\"none\"/>\n",
              "    <path d=\"M18.56 5.44l.94 2.06.94-2.06 2.06-.94-2.06-.94-.94-2.06-.94 2.06-2.06.94zm-11 1L8.5 8.5l.94-2.06 2.06-.94-2.06-.94L8.5 2.5l-.94 2.06-2.06.94zm10 10l.94 2.06.94-2.06 2.06-.94-2.06-.94-.94-2.06-.94 2.06-2.06.94z\"/><path d=\"M17.41 7.96l-1.37-1.37c-.4-.4-.92-.59-1.43-.59-.52 0-1.04.2-1.43.59L10.3 9.45l-7.72 7.72c-.78.78-.78 2.05 0 2.83L4 21.41c.39.39.9.59 1.41.59.51 0 1.02-.2 1.41-.59l7.78-7.78 2.81-2.81c.8-.78.8-2.07 0-2.86zM5.41 20L4 18.59l7.72-7.72 1.47 1.35L5.41 20z\"/>\n",
              "  </svg>\n",
              "      </button>\n",
              "      \n",
              "  <style>\n",
              "    .colab-df-container {\n",
              "      display:flex;\n",
              "      flex-wrap:wrap;\n",
              "      gap: 12px;\n",
              "    }\n",
              "\n",
              "    .colab-df-convert {\n",
              "      background-color: #E8F0FE;\n",
              "      border: none;\n",
              "      border-radius: 50%;\n",
              "      cursor: pointer;\n",
              "      display: none;\n",
              "      fill: #1967D2;\n",
              "      height: 32px;\n",
              "      padding: 0 0 0 0;\n",
              "      width: 32px;\n",
              "    }\n",
              "\n",
              "    .colab-df-convert:hover {\n",
              "      background-color: #E2EBFA;\n",
              "      box-shadow: 0px 1px 2px rgba(60, 64, 67, 0.3), 0px 1px 3px 1px rgba(60, 64, 67, 0.15);\n",
              "      fill: #174EA6;\n",
              "    }\n",
              "\n",
              "    [theme=dark] .colab-df-convert {\n",
              "      background-color: #3B4455;\n",
              "      fill: #D2E3FC;\n",
              "    }\n",
              "\n",
              "    [theme=dark] .colab-df-convert:hover {\n",
              "      background-color: #434B5C;\n",
              "      box-shadow: 0px 1px 3px 1px rgba(0, 0, 0, 0.15);\n",
              "      filter: drop-shadow(0px 1px 2px rgba(0, 0, 0, 0.3));\n",
              "      fill: #FFFFFF;\n",
              "    }\n",
              "  </style>\n",
              "\n",
              "      <script>\n",
              "        const buttonEl =\n",
              "          document.querySelector('#df-fd6b4dbf-a43b-4e79-96b6-25f473e47098 button.colab-df-convert');\n",
              "        buttonEl.style.display =\n",
              "          google.colab.kernel.accessAllowed ? 'block' : 'none';\n",
              "\n",
              "        async function convertToInteractive(key) {\n",
              "          const element = document.querySelector('#df-fd6b4dbf-a43b-4e79-96b6-25f473e47098');\n",
              "          const dataTable =\n",
              "            await google.colab.kernel.invokeFunction('convertToInteractive',\n",
              "                                                     [key], {});\n",
              "          if (!dataTable) return;\n",
              "\n",
              "          const docLinkHtml = 'Like what you see? Visit the ' +\n",
              "            '<a target=\"_blank\" href=https://colab.research.google.com/notebooks/data_table.ipynb>data table notebook</a>'\n",
              "            + ' to learn more about interactive tables.';\n",
              "          element.innerHTML = '';\n",
              "          dataTable['output_type'] = 'display_data';\n",
              "          await google.colab.output.renderOutput(dataTable, element);\n",
              "          const docLink = document.createElement('div');\n",
              "          docLink.innerHTML = docLinkHtml;\n",
              "          element.appendChild(docLink);\n",
              "        }\n",
              "      </script>\n",
              "    </div>\n",
              "  </div>\n",
              "  "
            ]
          },
          "metadata": {},
          "execution_count": 13
        }
      ]
    },
    {
      "cell_type": "code",
      "source": [
        "pd.set_option('display.max_colwidth', None)\n",
        "data.sample(50)"
      ],
      "metadata": {
        "id": "sdkh_5rJRvj_",
        "colab": {
          "base_uri": "https://localhost:8080/",
          "height": 1000
        },
        "outputId": "2fba7c68-3182-461a-f78a-6216f9a2e34e"
      },
      "execution_count": 14,
      "outputs": [
        {
          "output_type": "execute_result",
          "data": {
            "text/plain": [
              "                                                                                                                                                                                                                                               text  \\\n",
              "65392                                                                                                                           زي تسجيلات رابعه.... ورجيني.. هههههه\\nهو صنف واحد لبن الحمير😄😀😄 #كلنا_مع_السعوديه_ايد_واحده https://t.co/weHlMpIMy0   \n",
              "95939                                                                                                                                                                                                         @PrincessMarioum اه عندك حق فى دى 😂😂😂   \n",
              "121090                                                                                                                                                                      @afif_shoman_a خيو محمد قلو أو بتلبس هول التياب أو انت لا خيي ولا بعرفك   \n",
              "66031                                                                                                                                                                                                @donnaessamm الشمس دي شمسنا والصور دي في مصر 🤔   \n",
              "96727                                                                                                                       الضمير لو نام هييجى خازوق فى الحياة يصحيه لكن لو حاجة تانية نامت الحياة هتقفل ابوابها وتروح 😂😂😂 https://t.co/bfGqekZejZ   \n",
              "101195                                                                                                                                                          انا لله  انا اليه راجعون .... ادعوا لمحسن بالرحمة و المغفرة https://t.co/5dzKO4fjfj   \n",
              "63137                                                                                    محتاجين توعيه للناس في كل السوشيال ميديا علشان نحافظ على مرافقنا فيه استهتار وبجاحه في إهدار المال العام وتخريب كل ماهو جديد ونافع https://t.co/469AWs5g1s   \n",
              "5190                                                                                                                                                                                                  @m0hand92 اللهم امين منور يا احبيبي ربي يحفظك   \n",
              "41840                                                                                                                                                                                                        @Biggerthanstan_ معرف انجليزي بس فرنسي   \n",
              "92953                                                                                                                                                                                                   @sonbul_son المرضي بتوعي المخده والمرتبة 😂😂   \n",
              "73336                                                                                                                                 #سبعه_عالمحطه\\nالهبده اللي بستناها\\nان عليش رجعلنا الهلي تاني \\nيختاااااي على الفرحه بقى 💃💃💃😂😂\\n@KhaledEleish   \n",
              "125020                                                                                                                                                           @RitaEml @RjeileC @BouMkhael ياريت لو منبقى بموضوع السياسة وبلا ماندخل بلأديان 🌹🌹🌹   \n",
              "44854                                                                                                           @AlkuntK @AcharKader ههههه  لا اللي متعرفوش حضرتك انو لما دفعنا ملف لتنظيم كأس العالم تركي كان ضدنا و صوت ضدنا لمعلوماتك فقط يعني 🙂   \n",
              "58444                                                                                                                                                                         @amrelhady4000 بلا ابو تريكه بلا بطيخ ..بيتفاعل معاه الخرفان اللي زيه   \n",
              "94507   حسني عمال يرمي كلام و حمص فين و علي ابو جريشه فين و عايش في دور الضحيه و كلام مش في مكانه خالص الافضل انه كان يعتزل و مايتكلمش\\nو الواحد زعلان علي الاسماعيلي والله كله بينط من المركب و حالنا بيسوء ... حسبي الله و نعم الوكيل في دي اداره   \n",
              "98343                                                                                                                                                                                  @elsaeiidy ا.ب سواقه...اللي خابط من ورا هو اللي غلطان اصلا..   \n",
              "52490                                                                                                                                      العجيب انك لو ناديت بصوت عالي ف الشارع وقلت يا حماااااااااااااار .. اكتر من نص الماشين هيبصوا عليك ـ😜😂✍️   \n",
              "132546                                                                                                                                                   @TufahaMuhanad ودولتك اطيب وأرق وأهضم وأصدق وأشرف زعيم وريس تيار💙💕😍💕💙ربي يحميك وينصرك🙏🙏🙏🙏🙏   \n",
              "1930                                                                                                                                                                          @nedjlanoor @kosai1khauli @fatimadaoud الله اخد بيان 😂بعيد الشر عنو 😜   \n",
              "24912                                                                                                                                                                                           @tolipflow و هل يخفى القمر ؟؟ \\nاكيد وحده ليبيه 😂😂😂   \n",
              "21626                                                                                                 تعزم  100 شخص عشان يحضروا ورشة عمل أو محاضرة أو ندوة بخصوص أمر مهم .. \\nيجوك 10 بس .. \\nولو تعزم 10 أشخاص عشان زردة... http://t.co/vrk6oaXZwT   \n",
              "103422                                                                                                                                                                                   @MhmdAlkorashy كل سنة و انت فرحان بحبايبك حواليك يا قرشي 😀   \n",
              "20347                                                                                                                                                           @ALbrince870 خيرك مسوس ..حتى نية الحسنة مهناش ،واصلا شن لمقصد بالكلام هذا كله !!!!!   \n",
              "16317                                                                                                                                                                                                       @A_Almahmoudy يبدو أنك داير صوب و متليع   \n",
              "7060                                                                                                                                                                 @EnasBushnaff الله يرحم والدك و يحفظلك اهلك و احبابك و يحفظك و يحفظ اهل بنغازي   \n",
              "141575                                                                                              @Mseat0o @azza_salih والله ممكن نقول بتحول الشخصيات لكن بتدي الزول شخصية ده كلام تاني لانو عدم الشخصية ده حاجة وضيعة.\\nالا كان قصدك ناس معينة 😆   \n",
              "86328                                                                                                                                                                              @hewedy_mohamed يبقى هبل لو مشيوا ورانا و احنا بتشتم بعض ع تويتر   \n",
              "103362                                                                                                                                                                          @Nabil_Magdy92 كلهم عاملين زي فريق سمير غانم و يونس شلبي في 4-2-4 😂   \n",
              "121859                                                                                                                                                                                      @MichelChammas نحن ببلاش السنة و في براد ماء كمان ببلاش   \n",
              "12376                                                                                                                       @salem_elfy و الله زعلت عليه يعز عليا واجد هيغوايين .. نفسيته تضررت من معاملة نابولي و جمهوره لطريقة خروجه من اليوفي 😥😥   \n",
              "89277                                                                                                                                                         إزاي دى اديل متجوزة وعندها ولد.. شكلها كدبة ابريل الامريكاني. https://t.co/qjxPCv5hCx   \n",
              "61499                                                                                                                                                                                    @Hossam_Corner_ لا مش تعميم ده وصف للفرد ايا كانت مكانته 😊   \n",
              "4899                                                                                                                                                                                                                       @adbav هههههه تي شن في 😂   \n",
              "33247                                                                                                                                                                                                       @TetoJuve ههههههههه اكتر خبر مضحك قريته   \n",
              "51956                                                                                                                                                                          @mostafa03021903 حبيبى يا ديشا ربنا يديم المحبة والاخوة بينا دايما .   \n",
              "104312                                                                                                                                                                     @nUnU_75_N احنا کل مشتریاتنا من علی النت بس ربنا یستر والکاردیت مایتسرقش   \n",
              "140214                                                                                                                                           يعني اتخيل معاي البلاستيكتين ديل بي 800 جنيه 😂\\nياخ الدنيا دي ضيقه خلاص  💔 https://t.co/qcIu2TFzba   \n",
              "126198                                                                                                                                                                                             وعم يوّصوا ببرّ الوالدين https://t.co/7ovgdciiy4   \n",
              "56396                                                                                                                                                                                                             @Bandrinos يعني كدا العيد إتحدد ؟   \n",
              "13620                                                                                                                                                                                                             @96Smile21 شنو هضا الاله قصدي شنو   \n",
              "21550                                                                                                    قــولو مبروكــ ^^ \\nقبل شوي عدلتــ الـــ cv تبعي .. و ضفت فيلم \"لا عودة\" \\nو المسلسل المكتوربــ \"الغريب\" \\n\\nربي... http://t.co/NzYO0fgIx8   \n",
              "40279                                                                                                       @wrtyippp @OtOtmani @NajouaRjf @ShaymehElissian @staracnews @hindoss9 @StarAcArab لا احبيبه حتى نشوفو البنات الا بغاو ونديروه فالواتساب   \n",
              "53811                                                                                                                                                                                            @ameirallel 😂😂 متركزش معايا يا سردينا \\nانا ف عرضك   \n",
              "119137                                                                                                                                                                        @fatimafadel2018 @mohamad_shbeeb @fatimaFfb لا بس بعرف بيو ما بيعملها   \n",
              "15684                                                                                                                                                       @arahmanyusuf بالنسبة الي انا شمتان في السيسي وجماعته اما عموم الشعب في علي راسي من فوق   \n",
              "86910                                                                                                                                                                                هو مين بقي اللي طلع في الاخر بطل حرب أكتوبر عشان انا توهت🤣🤣🤣🤣🤣   \n",
              "30254                                                                                                                                                                                    @abdallah_bazama اول واحد الاربعاء بعيد ازف مفيش واحد اقرب   \n",
              "114819                                                                                                                                                                                      كيف ما بيقتلو ل ايلي جلادي\\nيا الهي ما اسمكو\\n#لهون_وبس   \n",
              "62583                                                                                                                                                                                     الواد ده لازم يمسك وزير الاستثمار https://t.co/BGFY36ZNbG   \n",
              "12266                                                                                                                                                                              ليه بنسأل عنهم أو نفتكرهم ؟؟ \\nأنت غيرهم https://t.co/3KO5QeC9Kh   \n",
              "\n",
              "       dialect  \n",
              "65392       EG  \n",
              "95939       EG  \n",
              "121090      LB  \n",
              "66031       EG  \n",
              "96727       EG  \n",
              "101195      EG  \n",
              "63137       EG  \n",
              "5190        LY  \n",
              "41840       MA  \n",
              "92953       EG  \n",
              "73336       EG  \n",
              "125020      LB  \n",
              "44854       MA  \n",
              "58444       EG  \n",
              "94507       EG  \n",
              "98343       EG  \n",
              "52490       EG  \n",
              "132546      LB  \n",
              "1930        LY  \n",
              "24912       LY  \n",
              "21626       LY  \n",
              "103422      EG  \n",
              "20347       LY  \n",
              "16317       LY  \n",
              "7060        LY  \n",
              "141575      SD  \n",
              "86328       EG  \n",
              "103362      EG  \n",
              "121859      LB  \n",
              "12376       LY  \n",
              "89277       EG  \n",
              "61499       EG  \n",
              "4899        LY  \n",
              "33247       LY  \n",
              "51956       EG  \n",
              "104312      EG  \n",
              "140214      SD  \n",
              "126198      LB  \n",
              "56396       EG  \n",
              "13620       LY  \n",
              "21550       LY  \n",
              "40279       MA  \n",
              "53811       EG  \n",
              "119137      LB  \n",
              "15684       LY  \n",
              "86910       EG  \n",
              "30254       LY  \n",
              "114819      LB  \n",
              "62583       EG  \n",
              "12266       LY  "
            ],
            "text/html": [
              "\n",
              "  <div id=\"df-d46a7a54-55d0-42e1-8810-435e6afb5c50\">\n",
              "    <div class=\"colab-df-container\">\n",
              "      <div>\n",
              "<style scoped>\n",
              "    .dataframe tbody tr th:only-of-type {\n",
              "        vertical-align: middle;\n",
              "    }\n",
              "\n",
              "    .dataframe tbody tr th {\n",
              "        vertical-align: top;\n",
              "    }\n",
              "\n",
              "    .dataframe thead th {\n",
              "        text-align: right;\n",
              "    }\n",
              "</style>\n",
              "<table border=\"1\" class=\"dataframe\">\n",
              "  <thead>\n",
              "    <tr style=\"text-align: right;\">\n",
              "      <th></th>\n",
              "      <th>text</th>\n",
              "      <th>dialect</th>\n",
              "    </tr>\n",
              "  </thead>\n",
              "  <tbody>\n",
              "    <tr>\n",
              "      <th>65392</th>\n",
              "      <td>زي تسجيلات رابعه.... ورجيني.. هههههه\\nهو صنف واحد لبن الحمير😄😀😄 #كلنا_مع_السعوديه_ايد_واحده https://t.co/weHlMpIMy0</td>\n",
              "      <td>EG</td>\n",
              "    </tr>\n",
              "    <tr>\n",
              "      <th>95939</th>\n",
              "      <td>@PrincessMarioum اه عندك حق فى دى 😂😂😂</td>\n",
              "      <td>EG</td>\n",
              "    </tr>\n",
              "    <tr>\n",
              "      <th>121090</th>\n",
              "      <td>@afif_shoman_a خيو محمد قلو أو بتلبس هول التياب أو انت لا خيي ولا بعرفك</td>\n",
              "      <td>LB</td>\n",
              "    </tr>\n",
              "    <tr>\n",
              "      <th>66031</th>\n",
              "      <td>@donnaessamm الشمس دي شمسنا والصور دي في مصر 🤔</td>\n",
              "      <td>EG</td>\n",
              "    </tr>\n",
              "    <tr>\n",
              "      <th>96727</th>\n",
              "      <td>الضمير لو نام هييجى خازوق فى الحياة يصحيه لكن لو حاجة تانية نامت الحياة هتقفل ابوابها وتروح 😂😂😂 https://t.co/bfGqekZejZ</td>\n",
              "      <td>EG</td>\n",
              "    </tr>\n",
              "    <tr>\n",
              "      <th>101195</th>\n",
              "      <td>انا لله  انا اليه راجعون .... ادعوا لمحسن بالرحمة و المغفرة https://t.co/5dzKO4fjfj</td>\n",
              "      <td>EG</td>\n",
              "    </tr>\n",
              "    <tr>\n",
              "      <th>63137</th>\n",
              "      <td>محتاجين توعيه للناس في كل السوشيال ميديا علشان نحافظ على مرافقنا فيه استهتار وبجاحه في إهدار المال العام وتخريب كل ماهو جديد ونافع https://t.co/469AWs5g1s</td>\n",
              "      <td>EG</td>\n",
              "    </tr>\n",
              "    <tr>\n",
              "      <th>5190</th>\n",
              "      <td>@m0hand92 اللهم امين منور يا احبيبي ربي يحفظك</td>\n",
              "      <td>LY</td>\n",
              "    </tr>\n",
              "    <tr>\n",
              "      <th>41840</th>\n",
              "      <td>@Biggerthanstan_ معرف انجليزي بس فرنسي</td>\n",
              "      <td>MA</td>\n",
              "    </tr>\n",
              "    <tr>\n",
              "      <th>92953</th>\n",
              "      <td>@sonbul_son المرضي بتوعي المخده والمرتبة 😂😂</td>\n",
              "      <td>EG</td>\n",
              "    </tr>\n",
              "    <tr>\n",
              "      <th>73336</th>\n",
              "      <td>#سبعه_عالمحطه\\nالهبده اللي بستناها\\nان عليش رجعلنا الهلي تاني \\nيختاااااي على الفرحه بقى 💃💃💃😂😂\\n@KhaledEleish</td>\n",
              "      <td>EG</td>\n",
              "    </tr>\n",
              "    <tr>\n",
              "      <th>125020</th>\n",
              "      <td>@RitaEml @RjeileC @BouMkhael ياريت لو منبقى بموضوع السياسة وبلا ماندخل بلأديان 🌹🌹🌹</td>\n",
              "      <td>LB</td>\n",
              "    </tr>\n",
              "    <tr>\n",
              "      <th>44854</th>\n",
              "      <td>@AlkuntK @AcharKader ههههه  لا اللي متعرفوش حضرتك انو لما دفعنا ملف لتنظيم كأس العالم تركي كان ضدنا و صوت ضدنا لمعلوماتك فقط يعني 🙂</td>\n",
              "      <td>MA</td>\n",
              "    </tr>\n",
              "    <tr>\n",
              "      <th>58444</th>\n",
              "      <td>@amrelhady4000 بلا ابو تريكه بلا بطيخ ..بيتفاعل معاه الخرفان اللي زيه</td>\n",
              "      <td>EG</td>\n",
              "    </tr>\n",
              "    <tr>\n",
              "      <th>94507</th>\n",
              "      <td>حسني عمال يرمي كلام و حمص فين و علي ابو جريشه فين و عايش في دور الضحيه و كلام مش في مكانه خالص الافضل انه كان يعتزل و مايتكلمش\\nو الواحد زعلان علي الاسماعيلي والله كله بينط من المركب و حالنا بيسوء ... حسبي الله و نعم الوكيل في دي اداره</td>\n",
              "      <td>EG</td>\n",
              "    </tr>\n",
              "    <tr>\n",
              "      <th>98343</th>\n",
              "      <td>@elsaeiidy ا.ب سواقه...اللي خابط من ورا هو اللي غلطان اصلا..</td>\n",
              "      <td>EG</td>\n",
              "    </tr>\n",
              "    <tr>\n",
              "      <th>52490</th>\n",
              "      <td>العجيب انك لو ناديت بصوت عالي ف الشارع وقلت يا حماااااااااااااار .. اكتر من نص الماشين هيبصوا عليك ـ😜😂✍️</td>\n",
              "      <td>EG</td>\n",
              "    </tr>\n",
              "    <tr>\n",
              "      <th>132546</th>\n",
              "      <td>@TufahaMuhanad ودولتك اطيب وأرق وأهضم وأصدق وأشرف زعيم وريس تيار💙💕😍💕💙ربي يحميك وينصرك🙏🙏🙏🙏🙏</td>\n",
              "      <td>LB</td>\n",
              "    </tr>\n",
              "    <tr>\n",
              "      <th>1930</th>\n",
              "      <td>@nedjlanoor @kosai1khauli @fatimadaoud الله اخد بيان 😂بعيد الشر عنو 😜</td>\n",
              "      <td>LY</td>\n",
              "    </tr>\n",
              "    <tr>\n",
              "      <th>24912</th>\n",
              "      <td>@tolipflow و هل يخفى القمر ؟؟ \\nاكيد وحده ليبيه 😂😂😂</td>\n",
              "      <td>LY</td>\n",
              "    </tr>\n",
              "    <tr>\n",
              "      <th>21626</th>\n",
              "      <td>تعزم  100 شخص عشان يحضروا ورشة عمل أو محاضرة أو ندوة بخصوص أمر مهم .. \\nيجوك 10 بس .. \\nولو تعزم 10 أشخاص عشان زردة... http://t.co/vrk6oaXZwT</td>\n",
              "      <td>LY</td>\n",
              "    </tr>\n",
              "    <tr>\n",
              "      <th>103422</th>\n",
              "      <td>@MhmdAlkorashy كل سنة و انت فرحان بحبايبك حواليك يا قرشي 😀</td>\n",
              "      <td>EG</td>\n",
              "    </tr>\n",
              "    <tr>\n",
              "      <th>20347</th>\n",
              "      <td>@ALbrince870 خيرك مسوس ..حتى نية الحسنة مهناش ،واصلا شن لمقصد بالكلام هذا كله !!!!!</td>\n",
              "      <td>LY</td>\n",
              "    </tr>\n",
              "    <tr>\n",
              "      <th>16317</th>\n",
              "      <td>@A_Almahmoudy يبدو أنك داير صوب و متليع</td>\n",
              "      <td>LY</td>\n",
              "    </tr>\n",
              "    <tr>\n",
              "      <th>7060</th>\n",
              "      <td>@EnasBushnaff الله يرحم والدك و يحفظلك اهلك و احبابك و يحفظك و يحفظ اهل بنغازي</td>\n",
              "      <td>LY</td>\n",
              "    </tr>\n",
              "    <tr>\n",
              "      <th>141575</th>\n",
              "      <td>@Mseat0o @azza_salih والله ممكن نقول بتحول الشخصيات لكن بتدي الزول شخصية ده كلام تاني لانو عدم الشخصية ده حاجة وضيعة.\\nالا كان قصدك ناس معينة 😆</td>\n",
              "      <td>SD</td>\n",
              "    </tr>\n",
              "    <tr>\n",
              "      <th>86328</th>\n",
              "      <td>@hewedy_mohamed يبقى هبل لو مشيوا ورانا و احنا بتشتم بعض ع تويتر</td>\n",
              "      <td>EG</td>\n",
              "    </tr>\n",
              "    <tr>\n",
              "      <th>103362</th>\n",
              "      <td>@Nabil_Magdy92 كلهم عاملين زي فريق سمير غانم و يونس شلبي في 4-2-4 😂</td>\n",
              "      <td>EG</td>\n",
              "    </tr>\n",
              "    <tr>\n",
              "      <th>121859</th>\n",
              "      <td>@MichelChammas نحن ببلاش السنة و في براد ماء كمان ببلاش</td>\n",
              "      <td>LB</td>\n",
              "    </tr>\n",
              "    <tr>\n",
              "      <th>12376</th>\n",
              "      <td>@salem_elfy و الله زعلت عليه يعز عليا واجد هيغوايين .. نفسيته تضررت من معاملة نابولي و جمهوره لطريقة خروجه من اليوفي 😥😥</td>\n",
              "      <td>LY</td>\n",
              "    </tr>\n",
              "    <tr>\n",
              "      <th>89277</th>\n",
              "      <td>إزاي دى اديل متجوزة وعندها ولد.. شكلها كدبة ابريل الامريكاني. https://t.co/qjxPCv5hCx</td>\n",
              "      <td>EG</td>\n",
              "    </tr>\n",
              "    <tr>\n",
              "      <th>61499</th>\n",
              "      <td>@Hossam_Corner_ لا مش تعميم ده وصف للفرد ايا كانت مكانته 😊</td>\n",
              "      <td>EG</td>\n",
              "    </tr>\n",
              "    <tr>\n",
              "      <th>4899</th>\n",
              "      <td>@adbav هههههه تي شن في 😂</td>\n",
              "      <td>LY</td>\n",
              "    </tr>\n",
              "    <tr>\n",
              "      <th>33247</th>\n",
              "      <td>@TetoJuve ههههههههه اكتر خبر مضحك قريته</td>\n",
              "      <td>LY</td>\n",
              "    </tr>\n",
              "    <tr>\n",
              "      <th>51956</th>\n",
              "      <td>@mostafa03021903 حبيبى يا ديشا ربنا يديم المحبة والاخوة بينا دايما .</td>\n",
              "      <td>EG</td>\n",
              "    </tr>\n",
              "    <tr>\n",
              "      <th>104312</th>\n",
              "      <td>@nUnU_75_N احنا کل مشتریاتنا من علی النت بس ربنا یستر والکاردیت مایتسرقش</td>\n",
              "      <td>EG</td>\n",
              "    </tr>\n",
              "    <tr>\n",
              "      <th>140214</th>\n",
              "      <td>يعني اتخيل معاي البلاستيكتين ديل بي 800 جنيه 😂\\nياخ الدنيا دي ضيقه خلاص  💔 https://t.co/qcIu2TFzba</td>\n",
              "      <td>SD</td>\n",
              "    </tr>\n",
              "    <tr>\n",
              "      <th>126198</th>\n",
              "      <td>وعم يوّصوا ببرّ الوالدين https://t.co/7ovgdciiy4</td>\n",
              "      <td>LB</td>\n",
              "    </tr>\n",
              "    <tr>\n",
              "      <th>56396</th>\n",
              "      <td>@Bandrinos يعني كدا العيد إتحدد ؟</td>\n",
              "      <td>EG</td>\n",
              "    </tr>\n",
              "    <tr>\n",
              "      <th>13620</th>\n",
              "      <td>@96Smile21 شنو هضا الاله قصدي شنو</td>\n",
              "      <td>LY</td>\n",
              "    </tr>\n",
              "    <tr>\n",
              "      <th>21550</th>\n",
              "      <td>قــولو مبروكــ ^^ \\nقبل شوي عدلتــ الـــ cv تبعي .. و ضفت فيلم \"لا عودة\" \\nو المسلسل المكتوربــ \"الغريب\" \\n\\nربي... http://t.co/NzYO0fgIx8</td>\n",
              "      <td>LY</td>\n",
              "    </tr>\n",
              "    <tr>\n",
              "      <th>40279</th>\n",
              "      <td>@wrtyippp @OtOtmani @NajouaRjf @ShaymehElissian @staracnews @hindoss9 @StarAcArab لا احبيبه حتى نشوفو البنات الا بغاو ونديروه فالواتساب</td>\n",
              "      <td>MA</td>\n",
              "    </tr>\n",
              "    <tr>\n",
              "      <th>53811</th>\n",
              "      <td>@ameirallel 😂😂 متركزش معايا يا سردينا \\nانا ف عرضك</td>\n",
              "      <td>EG</td>\n",
              "    </tr>\n",
              "    <tr>\n",
              "      <th>119137</th>\n",
              "      <td>@fatimafadel2018 @mohamad_shbeeb @fatimaFfb لا بس بعرف بيو ما بيعملها</td>\n",
              "      <td>LB</td>\n",
              "    </tr>\n",
              "    <tr>\n",
              "      <th>15684</th>\n",
              "      <td>@arahmanyusuf بالنسبة الي انا شمتان في السيسي وجماعته اما عموم الشعب في علي راسي من فوق</td>\n",
              "      <td>LY</td>\n",
              "    </tr>\n",
              "    <tr>\n",
              "      <th>86910</th>\n",
              "      <td>هو مين بقي اللي طلع في الاخر بطل حرب أكتوبر عشان انا توهت🤣🤣🤣🤣🤣</td>\n",
              "      <td>EG</td>\n",
              "    </tr>\n",
              "    <tr>\n",
              "      <th>30254</th>\n",
              "      <td>@abdallah_bazama اول واحد الاربعاء بعيد ازف مفيش واحد اقرب</td>\n",
              "      <td>LY</td>\n",
              "    </tr>\n",
              "    <tr>\n",
              "      <th>114819</th>\n",
              "      <td>كيف ما بيقتلو ل ايلي جلادي\\nيا الهي ما اسمكو\\n#لهون_وبس</td>\n",
              "      <td>LB</td>\n",
              "    </tr>\n",
              "    <tr>\n",
              "      <th>62583</th>\n",
              "      <td>الواد ده لازم يمسك وزير الاستثمار https://t.co/BGFY36ZNbG</td>\n",
              "      <td>EG</td>\n",
              "    </tr>\n",
              "    <tr>\n",
              "      <th>12266</th>\n",
              "      <td>ليه بنسأل عنهم أو نفتكرهم ؟؟ \\nأنت غيرهم https://t.co/3KO5QeC9Kh</td>\n",
              "      <td>LY</td>\n",
              "    </tr>\n",
              "  </tbody>\n",
              "</table>\n",
              "</div>\n",
              "      <button class=\"colab-df-convert\" onclick=\"convertToInteractive('df-d46a7a54-55d0-42e1-8810-435e6afb5c50')\"\n",
              "              title=\"Convert this dataframe to an interactive table.\"\n",
              "              style=\"display:none;\">\n",
              "        \n",
              "  <svg xmlns=\"http://www.w3.org/2000/svg\" height=\"24px\"viewBox=\"0 0 24 24\"\n",
              "       width=\"24px\">\n",
              "    <path d=\"M0 0h24v24H0V0z\" fill=\"none\"/>\n",
              "    <path d=\"M18.56 5.44l.94 2.06.94-2.06 2.06-.94-2.06-.94-.94-2.06-.94 2.06-2.06.94zm-11 1L8.5 8.5l.94-2.06 2.06-.94-2.06-.94L8.5 2.5l-.94 2.06-2.06.94zm10 10l.94 2.06.94-2.06 2.06-.94-2.06-.94-.94-2.06-.94 2.06-2.06.94z\"/><path d=\"M17.41 7.96l-1.37-1.37c-.4-.4-.92-.59-1.43-.59-.52 0-1.04.2-1.43.59L10.3 9.45l-7.72 7.72c-.78.78-.78 2.05 0 2.83L4 21.41c.39.39.9.59 1.41.59.51 0 1.02-.2 1.41-.59l7.78-7.78 2.81-2.81c.8-.78.8-2.07 0-2.86zM5.41 20L4 18.59l7.72-7.72 1.47 1.35L5.41 20z\"/>\n",
              "  </svg>\n",
              "      </button>\n",
              "      \n",
              "  <style>\n",
              "    .colab-df-container {\n",
              "      display:flex;\n",
              "      flex-wrap:wrap;\n",
              "      gap: 12px;\n",
              "    }\n",
              "\n",
              "    .colab-df-convert {\n",
              "      background-color: #E8F0FE;\n",
              "      border: none;\n",
              "      border-radius: 50%;\n",
              "      cursor: pointer;\n",
              "      display: none;\n",
              "      fill: #1967D2;\n",
              "      height: 32px;\n",
              "      padding: 0 0 0 0;\n",
              "      width: 32px;\n",
              "    }\n",
              "\n",
              "    .colab-df-convert:hover {\n",
              "      background-color: #E2EBFA;\n",
              "      box-shadow: 0px 1px 2px rgba(60, 64, 67, 0.3), 0px 1px 3px 1px rgba(60, 64, 67, 0.15);\n",
              "      fill: #174EA6;\n",
              "    }\n",
              "\n",
              "    [theme=dark] .colab-df-convert {\n",
              "      background-color: #3B4455;\n",
              "      fill: #D2E3FC;\n",
              "    }\n",
              "\n",
              "    [theme=dark] .colab-df-convert:hover {\n",
              "      background-color: #434B5C;\n",
              "      box-shadow: 0px 1px 3px 1px rgba(0, 0, 0, 0.15);\n",
              "      filter: drop-shadow(0px 1px 2px rgba(0, 0, 0, 0.3));\n",
              "      fill: #FFFFFF;\n",
              "    }\n",
              "  </style>\n",
              "\n",
              "      <script>\n",
              "        const buttonEl =\n",
              "          document.querySelector('#df-d46a7a54-55d0-42e1-8810-435e6afb5c50 button.colab-df-convert');\n",
              "        buttonEl.style.display =\n",
              "          google.colab.kernel.accessAllowed ? 'block' : 'none';\n",
              "\n",
              "        async function convertToInteractive(key) {\n",
              "          const element = document.querySelector('#df-d46a7a54-55d0-42e1-8810-435e6afb5c50');\n",
              "          const dataTable =\n",
              "            await google.colab.kernel.invokeFunction('convertToInteractive',\n",
              "                                                     [key], {});\n",
              "          if (!dataTable) return;\n",
              "\n",
              "          const docLinkHtml = 'Like what you see? Visit the ' +\n",
              "            '<a target=\"_blank\" href=https://colab.research.google.com/notebooks/data_table.ipynb>data table notebook</a>'\n",
              "            + ' to learn more about interactive tables.';\n",
              "          element.innerHTML = '';\n",
              "          dataTable['output_type'] = 'display_data';\n",
              "          await google.colab.output.renderOutput(dataTable, element);\n",
              "          const docLink = document.createElement('div');\n",
              "          docLink.innerHTML = docLinkHtml;\n",
              "          element.appendChild(docLink);\n",
              "        }\n",
              "      </script>\n",
              "    </div>\n",
              "  </div>\n",
              "  "
            ]
          },
          "metadata": {},
          "execution_count": 14
        }
      ]
    },
    {
      "cell_type": "code",
      "source": [
        "data['dialect'].value_counts()"
      ],
      "metadata": {
        "id": "ZJ2BNq1UVNIw",
        "colab": {
          "base_uri": "https://localhost:8080/"
        },
        "outputId": "40e55e0f-b0ad-4440-c529-3c6b10c36336"
      },
      "execution_count": 15,
      "outputs": [
        {
          "output_type": "execute_result",
          "data": {
            "text/plain": [
              "EG    57636\n",
              "LY    36499\n",
              "LB    27617\n",
              "SD    14434\n",
              "MA    11539\n",
              "Name: dialect, dtype: int64"
            ]
          },
          "metadata": {},
          "execution_count": 15
        }
      ]
    },
    {
      "cell_type": "markdown",
      "source": [
        "## Text Pre-processing"
      ],
      "metadata": {
        "id": "eDE-ONxRmz8I"
      }
    },
    {
      "cell_type": "markdown",
      "source": [
        "- **Removing Punctuations and Symbols**"
      ],
      "metadata": {
        "id": "mRfP26RwnEcz"
      }
    },
    {
      "cell_type": "code",
      "source": [
        "english_punctuations = string.punctuation\n",
        "english_punctuations"
      ],
      "metadata": {
        "colab": {
          "base_uri": "https://localhost:8080/",
          "height": 36
        },
        "id": "ZviNmmafn6eD",
        "outputId": "5df3cf6f-c302-4b61-c43c-f3df62f02637"
      },
      "execution_count": 16,
      "outputs": [
        {
          "output_type": "execute_result",
          "data": {
            "text/plain": [
              "'!\"#$%&\\'()*+,-./:;<=>?@[\\\\]^_`{|}~'"
            ],
            "application/vnd.google.colaboratory.intrinsic+json": {
              "type": "string"
            }
          },
          "metadata": {},
          "execution_count": 16
        }
      ]
    },
    {
      "cell_type": "code",
      "source": [
        "arabic_punctuations = '''`÷×؛<>_()*&^%][ـ،/:\"؟.,'{}~¦+|!”…“–ـ'''\n",
        "punctuations_list = arabic_punctuations + english_punctuations\n",
        "punctuations_list"
      ],
      "metadata": {
        "colab": {
          "base_uri": "https://localhost:8080/",
          "height": 36
        },
        "id": "Iyi3KGH9nD3F",
        "outputId": "b1926b56-029e-43c0-a9ca-8afc5df913f4"
      },
      "execution_count": 17,
      "outputs": [
        {
          "output_type": "execute_result",
          "data": {
            "text/plain": [
              "'`÷×؛<>_()*&^%][ـ،/:\"؟.,\\'{}~¦+|!”…“–ـ!\"#$%&\\'()*+,-./:;<=>?@[\\\\]^_`{|}~'"
            ],
            "application/vnd.google.colaboratory.intrinsic+json": {
              "type": "string"
            }
          },
          "metadata": {},
          "execution_count": 17
        }
      ]
    },
    {
      "cell_type": "code",
      "source": [
        "data['text'] = data['text'].apply(remove_punctuations)"
      ],
      "metadata": {
        "id": "TW9E32Jvok9a"
      },
      "execution_count": 18,
      "outputs": []
    },
    {
      "cell_type": "markdown",
      "source": [
        "- **Remove Emojis**"
      ],
      "metadata": {
        "id": "VqhitdCtovod"
      }
    },
    {
      "cell_type": "code",
      "source": [
        "data['text'] = data['text'].apply(remove_emoji)"
      ],
      "metadata": {
        "id": "8500YvMIoaxI"
      },
      "execution_count": 19,
      "outputs": []
    },
    {
      "cell_type": "markdown",
      "source": [
        "- **Stop Words Elimination**"
      ],
      "metadata": {
        "id": "1c8qZrJHqERL"
      }
    },
    {
      "cell_type": "code",
      "source": [
        "nltk.download('stopwords')\n",
        "stop=stopwords.words('arabic')"
      ],
      "metadata": {
        "colab": {
          "base_uri": "https://localhost:8080/"
        },
        "id": "CJ3y6wYwqG40",
        "outputId": "8fe4b1b0-189b-4db0-92f6-cdde971e315c"
      },
      "execution_count": 20,
      "outputs": [
        {
          "output_type": "stream",
          "name": "stderr",
          "text": [
            "[nltk_data] Downloading package stopwords to /root/nltk_data...\n",
            "[nltk_data]   Unzipping corpora/stopwords.zip.\n"
          ]
        }
      ]
    },
    {
      "cell_type": "code",
      "source": [
        "data['text'] = data['text'].apply(lambda x:\" \".join(x for x in x.split() if x not in stop))"
      ],
      "metadata": {
        "id": "iiLENOMRq0Jo"
      },
      "execution_count": 21,
      "outputs": []
    },
    {
      "cell_type": "markdown",
      "source": [
        "- **Remove Diacritics**"
      ],
      "metadata": {
        "id": "yLmtjyYOq8BM"
      }
    },
    {
      "cell_type": "code",
      "source": [
        "data['text'] = data['text'].apply(remove_diacritics)"
      ],
      "metadata": {
        "id": "BEKhrrDpq-Hm"
      },
      "execution_count": 22,
      "outputs": []
    },
    {
      "cell_type": "markdown",
      "source": [
        "- **Remove Non-Arabic Characters**"
      ],
      "metadata": {
        "id": "Luq4ZuskrcHM"
      }
    },
    {
      "cell_type": "code",
      "source": [
        "data['text'] = data['text'].apply(remove_non_arabic)"
      ],
      "metadata": {
        "id": "iAPFj3RCrd8Z"
      },
      "execution_count": 23,
      "outputs": []
    },
    {
      "cell_type": "markdown",
      "source": [
        "- **Remove Repeated Characters**"
      ],
      "metadata": {
        "id": "cIfK4eD3sTzU"
      }
    },
    {
      "cell_type": "code",
      "source": [
        "data['text'] = data['text'].apply(remove_repeating_characters)"
      ],
      "metadata": {
        "id": "DerkX3y3sOLA"
      },
      "execution_count": 24,
      "outputs": []
    },
    {
      "cell_type": "markdown",
      "source": [
        "- **Lemmatisation**"
      ],
      "metadata": {
        "id": "4LnRChe1svdv"
      }
    },
    {
      "cell_type": "code",
      "source": [
        "nltk.download('wordnet')"
      ],
      "metadata": {
        "colab": {
          "base_uri": "https://localhost:8080/"
        },
        "id": "J82GBF0141wy",
        "outputId": "39f4ecec-ded7-47e7-f40c-41ac5e082ea3"
      },
      "execution_count": 25,
      "outputs": [
        {
          "output_type": "stream",
          "name": "stderr",
          "text": [
            "[nltk_data] Downloading package wordnet to /root/nltk_data...\n"
          ]
        },
        {
          "output_type": "execute_result",
          "data": {
            "text/plain": [
              "True"
            ]
          },
          "metadata": {},
          "execution_count": 25
        }
      ]
    },
    {
      "cell_type": "code",
      "source": [
        "data['text'] = data['text'].apply(lambda x: \" \".join([Word(word).lemmatize() for word in x.split()]))"
      ],
      "metadata": {
        "id": "cOZ7ZSk4s8O0"
      },
      "execution_count": 26,
      "outputs": []
    },
    {
      "cell_type": "markdown",
      "source": [
        "- **Encoding the Target Classes**"
      ],
      "metadata": {
        "id": "XC1oLs98tG2j"
      }
    },
    {
      "cell_type": "code",
      "source": [
        "data.dialect.unique()"
      ],
      "metadata": {
        "colab": {
          "base_uri": "https://localhost:8080/"
        },
        "id": "R8tc3fsAtMKD",
        "outputId": "beebc13d-3025-4ea8-cb08-2baf0dc956df"
      },
      "execution_count": 27,
      "outputs": [
        {
          "output_type": "execute_result",
          "data": {
            "text/plain": [
              "array(['LY', 'MA', 'EG', 'LB', 'SD'], dtype=object)"
            ]
          },
          "metadata": {},
          "execution_count": 27
        }
      ]
    },
    {
      "cell_type": "code",
      "source": [
        "#Encoding output labels\n",
        "encoding = preprocessing.LabelEncoder()\n",
        "\n",
        "#using fit transform on the data\n",
        "y = encoding.fit_transform(data.dialect.values)\n",
        "\n",
        "#replace dialec column with the encoded\n",
        "data['dialect'] = y"
      ],
      "metadata": {
        "id": "s1jCLOFqtRhE"
      },
      "execution_count": 28,
      "outputs": []
    },
    {
      "cell_type": "code",
      "source": [
        "data.info()"
      ],
      "metadata": {
        "colab": {
          "base_uri": "https://localhost:8080/"
        },
        "id": "-Udt56JQtc9h",
        "outputId": "09672132-25eb-4ada-cdb5-8611b24182b6"
      },
      "execution_count": 29,
      "outputs": [
        {
          "output_type": "stream",
          "name": "stdout",
          "text": [
            "<class 'pandas.core.frame.DataFrame'>\n",
            "RangeIndex: 147725 entries, 0 to 147724\n",
            "Data columns (total 2 columns):\n",
            " #   Column   Non-Null Count   Dtype \n",
            "---  ------   --------------   ----- \n",
            " 0   text     147725 non-null  object\n",
            " 1   dialect  147725 non-null  int64 \n",
            "dtypes: int64(1), object(1)\n",
            "memory usage: 2.3+ MB\n"
          ]
        }
      ]
    },
    {
      "cell_type": "code",
      "source": [
        "data['dialect'].value_counts()"
      ],
      "metadata": {
        "colab": {
          "base_uri": "https://localhost:8080/"
        },
        "id": "qA8-6TDUwugj",
        "outputId": "e3128e11-05f6-4098-bb8b-403b627d3558"
      },
      "execution_count": 30,
      "outputs": [
        {
          "output_type": "execute_result",
          "data": {
            "text/plain": [
              "0    57636\n",
              "2    36499\n",
              "1    27617\n",
              "4    14434\n",
              "3    11539\n",
              "Name: dialect, dtype: int64"
            ]
          },
          "metadata": {},
          "execution_count": 30
        }
      ]
    },
    {
      "cell_type": "markdown",
      "source": [
        "## Saving pre-processed data"
      ],
      "metadata": {
        "id": "nZvLiIykAZo7"
      }
    },
    {
      "cell_type": "code",
      "source": [
        "data.to_csv('/content/drive/MyDrive/preprocessed_data.csv')"
      ],
      "metadata": {
        "id": "0DFUItXCikw0"
      },
      "execution_count": 31,
      "outputs": []
    },
    {
      "cell_type": "code",
      "source": [
        "data_cleaned = pd.read_csv('/content/drive/MyDrive/preprocessed_data.csv', lineterminator='\\n')"
      ],
      "metadata": {
        "id": "ztFUDN0Bi9_Y"
      },
      "execution_count": 32,
      "outputs": []
    },
    {
      "cell_type": "code",
      "source": [
        "pd.set_option('display.max_colwidth', None)\n",
        "data_cleaned.sample(50)\n"
      ],
      "metadata": {
        "colab": {
          "base_uri": "https://localhost:8080/",
          "height": 1000
        },
        "id": "aGZRdKJ8jEob",
        "outputId": "166dd64c-61f9-4f50-c4d1-a8ab0e16ba64"
      },
      "execution_count": 33,
      "outputs": [
        {
          "output_type": "execute_result",
          "data": {
            "text/plain": [
              "        Unnamed: 0  \\\n",
              "18170        18170   \n",
              "126984      126984   \n",
              "14647        14647   \n",
              "52205        52205   \n",
              "88504        88504   \n",
              "139466      139466   \n",
              "133421      133421   \n",
              "62784        62784   \n",
              "17858        17858   \n",
              "116671      116671   \n",
              "41310        41310   \n",
              "130517      130517   \n",
              "81297        81297   \n",
              "71415        71415   \n",
              "8410          8410   \n",
              "128556      128556   \n",
              "104343      104343   \n",
              "66563        66563   \n",
              "3343          3343   \n",
              "20795        20795   \n",
              "25317        25317   \n",
              "54256        54256   \n",
              "107922      107922   \n",
              "2485          2485   \n",
              "56778        56778   \n",
              "18907        18907   \n",
              "66585        66585   \n",
              "115937      115937   \n",
              "105912      105912   \n",
              "111635      111635   \n",
              "47978        47978   \n",
              "40407        40407   \n",
              "108837      108837   \n",
              "113742      113742   \n",
              "60987        60987   \n",
              "142122      142122   \n",
              "140341      140341   \n",
              "83314        83314   \n",
              "12380        12380   \n",
              "37658        37658   \n",
              "130941      130941   \n",
              "38130        38130   \n",
              "96592        96592   \n",
              "78051        78051   \n",
              "84150        84150   \n",
              "11805        11805   \n",
              "65334        65334   \n",
              "6854          6854   \n",
              "29136        29136   \n",
              "67514        67514   \n",
              "\n",
              "                                                                                                                                                                                                                                                               text  \\\n",
              "18170                                                                                                                                                                                                                        صح تبيلها رجال البيتزا خريجي تورا بورا   \n",
              "126984                                                                                                                                                                                                                                      الكلام الهبل يوجع القلب   \n",
              "14647                                                                                                                                                            كورتوا راه فريق هجوم وسط دفاع والمدرب داير سلاطه التشكيله وطبعا معاش نبي نسب بنزيما وبيل خلاص مليت   \n",
              "52205                                                                                                                                                                                                                                حااضر مليون مساا للناس الكويسه   \n",
              "88504                                                                                                                                                            الراجل بتاع الامارات بيقولك ادينا مصر مليار سنتين وتم عمل مشروعات شفافه بيهم علشان كده ماحدش شافهم   \n",
              "139466                                                                                                                                                                                                                             حسين شيعان مظلوم لازم يرجع اساسي   \n",
              "133421                                                                      عارفه حاجه انا دغريه بخاف كنتي سالتيني السءال دا مباشره جاتك اجابه مباشره مني سءالك شكل تشكيك يلا انا زاتي عايزه اعرف معاكي بالمناسبه برضو شكوك الحسابات الجديده الاتعملت قريب زي حسابك   \n",
              "62784                                                                                                                                              الرد المتاخر بيخليني اغير الكلام اللي كنت هقولوا بيقتل شغف الكلام جوايا وبيقفلني الشخص وبندم علي اني كلمته اساسا   \n",
              "17858                                                                                                                                                                                                               باهي انت اللي فيك جو وجك معش تعرفه ركبه مرفق هه   \n",
              "116671                                                                                                                                                                                                                       جورج صليبي خفف حكيك خلينا نسمع الجنرال   \n",
              "41310                                                                                                                                                                                                                          ربي يخليك حبيبه شكرا ليك بززاف بززاف   \n",
              "130517                                                                                                                                                                                                            ملكتم فووءادي اه اه اه دخيل الله واهل الله احلاهم   \n",
              "81297                                                                                                                                                          نداءنصيحه للاخوه بالمملكه خدوا عندنا تركي شيخ يدفع الفرق للاعبين الل حتطفش انديتها بدل يدفع لانديتنا   \n",
              "71415                                                                                                                                                                                                                                      طيب احنا معنوياتنا الارض   \n",
              "8410                                                                                                                                                                                                                                             افتكيت وجهه الافاق   \n",
              "128556                                                                                                                                                                                    لهونوبس ايلي جلاده اهضم عفوي مقابله بتفهم ومتل هشام منور ايلي جلاده مشرقط   \n",
              "104343                                                                                                      والله حلفت ان الي بتقوله بيحصل مش هايصدقوك لانهم صدقوك تبقي مش هيلاقوا حاجه يتاجروا بيها الحل انك تعمل رحله واستضافه عندك جروب شهر علشان يعاينوا بنفسهم   \n",
              "66563                                                                                  تري فاكرين فاروق الباز قال مشكله مصر هتتحل نخرج برا النيل ودلتاه عايزنكوا تتخانقوا السكن والميه في حته صغيره ارض مصر اتخانقوا وموتوا يلا مصر عفيه بيكوا شعبها شعبكمصدقكياسيس   \n",
              "3343                                                                                                                                                                                                                                           بدر طلع ستيرسو جماعه   \n",
              "20795                                                                                                                                                                                      انشقاقات الشرق لان العرق طاح عينهم مش علي خاطر ليبيا فلهدا الثقه ياكبادي   \n",
              "25317                                                                                                                                                                                                                             تبيني نجيك بالادله الاقوال صح باه   \n",
              "54256                                                                                                                                                                                                             انتوا استثناء دا اكيد او انكم مش مصريين وبتخدعونا   \n",
              "107922                                                                                                                                                                 انا برشح انابيلا هلال لتشكيل الحكومه بلبنان كونها عملت المستحيل وقدرت تسكت فيرا وتنهي الحلقه   \n",
              "2485                                                                                                                                          اليوم احلي يوم بحياتي اني شفتك بخير ياقلبي ربي مايحرمني هالطله ويديم المحبه ويخليلك احبابك ورفقاتك ويخلينا ياك ياكلشي   \n",
              "56778   عاوزك تتخيل انت مثلا مستني كلاسيكو برشلونه وريال مدريد وبعدين شوفته بالمنظر بتاع امبارح هاتقول اسبانيا اهو احنا كدا بالنسبه لافريقيا والوطن العربي ودول كتير ناس في مكان في العالم بيستنوا الماتش دا علشان يستمتعوا ويشجعوا وانت بكل سذاجه تطلعوا بالشكل دا   \n",
              "18907                                                                                                                                                                                                                        الشيك ليه العيد عندهم نستنو الفلوس توا   \n",
              "66585                                                                                                                                            طبيعي نتغير وطبيعي ناس كويسه وفي ناس وطبيعي المال مش بيحقق حاجه وطبيعي تحب وتكره وطبيعي تزعل وتفرح لانك انسان عادي   \n",
              "115937                                                                                                                                                                                                                    عيني عم تقلك عالرينغ عالررينغغ وسط بيرووت   \n",
              "105912                                                                                                                                                                                                   معقول ايا مخلوق حابب ينشهر بيكون بايخ هيك مو لهالدرجه انسه   \n",
              "111635                                                                                                                                                                                                                         صغير العقل كمان لانو بيفكر بهالطريقه   \n",
              "47978                                                                                                                                                                                                                 تجيب ثلج لانهاءي ماينكرافت للجوالمصنع ثلج عبر   \n",
              "40407                                                                                                                                                    ربييخليك اخويا الحمد لله مغاربه الموت لهلا يخطيك تيعجبني تنفتخر برجال بحالك فيهم النفس والغيره بنات بلادنا   \n",
              "108837                                                                                                                                                                                                                                          ويسوو احلي مسا كيفك   \n",
              "113742                                                                                                                                                                                                                               وين المعلومات يبعتلو مليون عله   \n",
              "60987                                                                                                                                                                                                                                                 قليل ادب نقطه   \n",
              "142122                                                                                                                                           وليه قدري راميني زولا مجافيني يسافر يخليني اشوف حظي وسنيني حليلها والله الحتقول الكلام دا الجبنه وانا مطار الخرطوم   \n",
              "140341                                                                                                                                                                                                                                         دي سخانه اتحركو الله   \n",
              "83314                                                                                                                                                                                                       وكنا عوزين نعرف مين التلاته اربعه اللي فالحاره المذنوقه   \n",
              "12380                                                                                                                                                                             امعيلف قال نرجاا فييهم نخش تويتر نشوف نوع تويتات نقعد نقول علي اللحن يجرواا بييهم   \n",
              "37658                                                                                                                                                                                اكلكالمفضلالخبزاوالرز الي ماجرب الطبخ المغربي مااعتقد حس بشنو تعنيه كلمه لذييذ   \n",
              "130941                                                                                                                                                                                                              بتصور اما الانتخابات او امر بقي عم نشوف عدل وحق   \n",
              "38130                                                                                                                                                                                                    شحال هدي مكنوش مصلين عليها صلاه الجنازه والبارح قامو بصلاه   \n",
              "96592                                                                                                                                                                                                                                مكتوبه بلكونه الشغل اقسم بالله   \n",
              "78051                                                                                                                                                                                                     باظ السوكسيه بتاع ده تشيك خالص الجول ده مالحقناش نفرح بيه   \n",
              "84150                                                                                                                                                                                                                         للاسف وترزيجيه مش واخدين حقهم اعلاميا   \n",
              "11805                                                                                                                                                                                                                                                 مش هدا القبيل   \n",
              "65334                                                                                                                                                                                                       خر وشك تعرف تكتب عربي ابقا كلمني ياحيوان روح شوف اتجوزه   \n",
              "6854                                                                                                                                                                                                                                           انا فزت تغيرات المود   \n",
              "29136                                                                                                                                                                                     نضربكب خليفه البشباش نخليك تقول وين الناتوو هه تاق باش ماتنكتيش عليا قرمه   \n",
              "67514                                                                                                                                                                                                                                     خالص ريحته ومش عاجبه كمان   \n",
              "\n",
              "        dialect  \n",
              "18170         2  \n",
              "126984        1  \n",
              "14647         2  \n",
              "52205         0  \n",
              "88504         0  \n",
              "139466        4  \n",
              "133421        4  \n",
              "62784         0  \n",
              "17858         2  \n",
              "116671        1  \n",
              "41310         3  \n",
              "130517        1  \n",
              "81297         0  \n",
              "71415         0  \n",
              "8410          2  \n",
              "128556        1  \n",
              "104343        0  \n",
              "66563         0  \n",
              "3343          2  \n",
              "20795         2  \n",
              "25317         2  \n",
              "54256         0  \n",
              "107922        1  \n",
              "2485          2  \n",
              "56778         0  \n",
              "18907         2  \n",
              "66585         0  \n",
              "115937        1  \n",
              "105912        1  \n",
              "111635        1  \n",
              "47978         3  \n",
              "40407         3  \n",
              "108837        1  \n",
              "113742        1  \n",
              "60987         0  \n",
              "142122        4  \n",
              "140341        4  \n",
              "83314         0  \n",
              "12380         2  \n",
              "37658         3  \n",
              "130941        1  \n",
              "38130         3  \n",
              "96592         0  \n",
              "78051         0  \n",
              "84150         0  \n",
              "11805         2  \n",
              "65334         0  \n",
              "6854          2  \n",
              "29136         2  \n",
              "67514         0  "
            ],
            "text/html": [
              "\n",
              "  <div id=\"df-78a7d52d-af36-41ab-80e2-e14fc335305e\">\n",
              "    <div class=\"colab-df-container\">\n",
              "      <div>\n",
              "<style scoped>\n",
              "    .dataframe tbody tr th:only-of-type {\n",
              "        vertical-align: middle;\n",
              "    }\n",
              "\n",
              "    .dataframe tbody tr th {\n",
              "        vertical-align: top;\n",
              "    }\n",
              "\n",
              "    .dataframe thead th {\n",
              "        text-align: right;\n",
              "    }\n",
              "</style>\n",
              "<table border=\"1\" class=\"dataframe\">\n",
              "  <thead>\n",
              "    <tr style=\"text-align: right;\">\n",
              "      <th></th>\n",
              "      <th>Unnamed: 0</th>\n",
              "      <th>text</th>\n",
              "      <th>dialect</th>\n",
              "    </tr>\n",
              "  </thead>\n",
              "  <tbody>\n",
              "    <tr>\n",
              "      <th>18170</th>\n",
              "      <td>18170</td>\n",
              "      <td>صح تبيلها رجال البيتزا خريجي تورا بورا</td>\n",
              "      <td>2</td>\n",
              "    </tr>\n",
              "    <tr>\n",
              "      <th>126984</th>\n",
              "      <td>126984</td>\n",
              "      <td>الكلام الهبل يوجع القلب</td>\n",
              "      <td>1</td>\n",
              "    </tr>\n",
              "    <tr>\n",
              "      <th>14647</th>\n",
              "      <td>14647</td>\n",
              "      <td>كورتوا راه فريق هجوم وسط دفاع والمدرب داير سلاطه التشكيله وطبعا معاش نبي نسب بنزيما وبيل خلاص مليت</td>\n",
              "      <td>2</td>\n",
              "    </tr>\n",
              "    <tr>\n",
              "      <th>52205</th>\n",
              "      <td>52205</td>\n",
              "      <td>حااضر مليون مساا للناس الكويسه</td>\n",
              "      <td>0</td>\n",
              "    </tr>\n",
              "    <tr>\n",
              "      <th>88504</th>\n",
              "      <td>88504</td>\n",
              "      <td>الراجل بتاع الامارات بيقولك ادينا مصر مليار سنتين وتم عمل مشروعات شفافه بيهم علشان كده ماحدش شافهم</td>\n",
              "      <td>0</td>\n",
              "    </tr>\n",
              "    <tr>\n",
              "      <th>139466</th>\n",
              "      <td>139466</td>\n",
              "      <td>حسين شيعان مظلوم لازم يرجع اساسي</td>\n",
              "      <td>4</td>\n",
              "    </tr>\n",
              "    <tr>\n",
              "      <th>133421</th>\n",
              "      <td>133421</td>\n",
              "      <td>عارفه حاجه انا دغريه بخاف كنتي سالتيني السءال دا مباشره جاتك اجابه مباشره مني سءالك شكل تشكيك يلا انا زاتي عايزه اعرف معاكي بالمناسبه برضو شكوك الحسابات الجديده الاتعملت قريب زي حسابك</td>\n",
              "      <td>4</td>\n",
              "    </tr>\n",
              "    <tr>\n",
              "      <th>62784</th>\n",
              "      <td>62784</td>\n",
              "      <td>الرد المتاخر بيخليني اغير الكلام اللي كنت هقولوا بيقتل شغف الكلام جوايا وبيقفلني الشخص وبندم علي اني كلمته اساسا</td>\n",
              "      <td>0</td>\n",
              "    </tr>\n",
              "    <tr>\n",
              "      <th>17858</th>\n",
              "      <td>17858</td>\n",
              "      <td>باهي انت اللي فيك جو وجك معش تعرفه ركبه مرفق هه</td>\n",
              "      <td>2</td>\n",
              "    </tr>\n",
              "    <tr>\n",
              "      <th>116671</th>\n",
              "      <td>116671</td>\n",
              "      <td>جورج صليبي خفف حكيك خلينا نسمع الجنرال</td>\n",
              "      <td>1</td>\n",
              "    </tr>\n",
              "    <tr>\n",
              "      <th>41310</th>\n",
              "      <td>41310</td>\n",
              "      <td>ربي يخليك حبيبه شكرا ليك بززاف بززاف</td>\n",
              "      <td>3</td>\n",
              "    </tr>\n",
              "    <tr>\n",
              "      <th>130517</th>\n",
              "      <td>130517</td>\n",
              "      <td>ملكتم فووءادي اه اه اه دخيل الله واهل الله احلاهم</td>\n",
              "      <td>1</td>\n",
              "    </tr>\n",
              "    <tr>\n",
              "      <th>81297</th>\n",
              "      <td>81297</td>\n",
              "      <td>نداءنصيحه للاخوه بالمملكه خدوا عندنا تركي شيخ يدفع الفرق للاعبين الل حتطفش انديتها بدل يدفع لانديتنا</td>\n",
              "      <td>0</td>\n",
              "    </tr>\n",
              "    <tr>\n",
              "      <th>71415</th>\n",
              "      <td>71415</td>\n",
              "      <td>طيب احنا معنوياتنا الارض</td>\n",
              "      <td>0</td>\n",
              "    </tr>\n",
              "    <tr>\n",
              "      <th>8410</th>\n",
              "      <td>8410</td>\n",
              "      <td>افتكيت وجهه الافاق</td>\n",
              "      <td>2</td>\n",
              "    </tr>\n",
              "    <tr>\n",
              "      <th>128556</th>\n",
              "      <td>128556</td>\n",
              "      <td>لهونوبس ايلي جلاده اهضم عفوي مقابله بتفهم ومتل هشام منور ايلي جلاده مشرقط</td>\n",
              "      <td>1</td>\n",
              "    </tr>\n",
              "    <tr>\n",
              "      <th>104343</th>\n",
              "      <td>104343</td>\n",
              "      <td>والله حلفت ان الي بتقوله بيحصل مش هايصدقوك لانهم صدقوك تبقي مش هيلاقوا حاجه يتاجروا بيها الحل انك تعمل رحله واستضافه عندك جروب شهر علشان يعاينوا بنفسهم</td>\n",
              "      <td>0</td>\n",
              "    </tr>\n",
              "    <tr>\n",
              "      <th>66563</th>\n",
              "      <td>66563</td>\n",
              "      <td>تري فاكرين فاروق الباز قال مشكله مصر هتتحل نخرج برا النيل ودلتاه عايزنكوا تتخانقوا السكن والميه في حته صغيره ارض مصر اتخانقوا وموتوا يلا مصر عفيه بيكوا شعبها شعبكمصدقكياسيس</td>\n",
              "      <td>0</td>\n",
              "    </tr>\n",
              "    <tr>\n",
              "      <th>3343</th>\n",
              "      <td>3343</td>\n",
              "      <td>بدر طلع ستيرسو جماعه</td>\n",
              "      <td>2</td>\n",
              "    </tr>\n",
              "    <tr>\n",
              "      <th>20795</th>\n",
              "      <td>20795</td>\n",
              "      <td>انشقاقات الشرق لان العرق طاح عينهم مش علي خاطر ليبيا فلهدا الثقه ياكبادي</td>\n",
              "      <td>2</td>\n",
              "    </tr>\n",
              "    <tr>\n",
              "      <th>25317</th>\n",
              "      <td>25317</td>\n",
              "      <td>تبيني نجيك بالادله الاقوال صح باه</td>\n",
              "      <td>2</td>\n",
              "    </tr>\n",
              "    <tr>\n",
              "      <th>54256</th>\n",
              "      <td>54256</td>\n",
              "      <td>انتوا استثناء دا اكيد او انكم مش مصريين وبتخدعونا</td>\n",
              "      <td>0</td>\n",
              "    </tr>\n",
              "    <tr>\n",
              "      <th>107922</th>\n",
              "      <td>107922</td>\n",
              "      <td>انا برشح انابيلا هلال لتشكيل الحكومه بلبنان كونها عملت المستحيل وقدرت تسكت فيرا وتنهي الحلقه</td>\n",
              "      <td>1</td>\n",
              "    </tr>\n",
              "    <tr>\n",
              "      <th>2485</th>\n",
              "      <td>2485</td>\n",
              "      <td>اليوم احلي يوم بحياتي اني شفتك بخير ياقلبي ربي مايحرمني هالطله ويديم المحبه ويخليلك احبابك ورفقاتك ويخلينا ياك ياكلشي</td>\n",
              "      <td>2</td>\n",
              "    </tr>\n",
              "    <tr>\n",
              "      <th>56778</th>\n",
              "      <td>56778</td>\n",
              "      <td>عاوزك تتخيل انت مثلا مستني كلاسيكو برشلونه وريال مدريد وبعدين شوفته بالمنظر بتاع امبارح هاتقول اسبانيا اهو احنا كدا بالنسبه لافريقيا والوطن العربي ودول كتير ناس في مكان في العالم بيستنوا الماتش دا علشان يستمتعوا ويشجعوا وانت بكل سذاجه تطلعوا بالشكل دا</td>\n",
              "      <td>0</td>\n",
              "    </tr>\n",
              "    <tr>\n",
              "      <th>18907</th>\n",
              "      <td>18907</td>\n",
              "      <td>الشيك ليه العيد عندهم نستنو الفلوس توا</td>\n",
              "      <td>2</td>\n",
              "    </tr>\n",
              "    <tr>\n",
              "      <th>66585</th>\n",
              "      <td>66585</td>\n",
              "      <td>طبيعي نتغير وطبيعي ناس كويسه وفي ناس وطبيعي المال مش بيحقق حاجه وطبيعي تحب وتكره وطبيعي تزعل وتفرح لانك انسان عادي</td>\n",
              "      <td>0</td>\n",
              "    </tr>\n",
              "    <tr>\n",
              "      <th>115937</th>\n",
              "      <td>115937</td>\n",
              "      <td>عيني عم تقلك عالرينغ عالررينغغ وسط بيرووت</td>\n",
              "      <td>1</td>\n",
              "    </tr>\n",
              "    <tr>\n",
              "      <th>105912</th>\n",
              "      <td>105912</td>\n",
              "      <td>معقول ايا مخلوق حابب ينشهر بيكون بايخ هيك مو لهالدرجه انسه</td>\n",
              "      <td>1</td>\n",
              "    </tr>\n",
              "    <tr>\n",
              "      <th>111635</th>\n",
              "      <td>111635</td>\n",
              "      <td>صغير العقل كمان لانو بيفكر بهالطريقه</td>\n",
              "      <td>1</td>\n",
              "    </tr>\n",
              "    <tr>\n",
              "      <th>47978</th>\n",
              "      <td>47978</td>\n",
              "      <td>تجيب ثلج لانهاءي ماينكرافت للجوالمصنع ثلج عبر</td>\n",
              "      <td>3</td>\n",
              "    </tr>\n",
              "    <tr>\n",
              "      <th>40407</th>\n",
              "      <td>40407</td>\n",
              "      <td>ربييخليك اخويا الحمد لله مغاربه الموت لهلا يخطيك تيعجبني تنفتخر برجال بحالك فيهم النفس والغيره بنات بلادنا</td>\n",
              "      <td>3</td>\n",
              "    </tr>\n",
              "    <tr>\n",
              "      <th>108837</th>\n",
              "      <td>108837</td>\n",
              "      <td>ويسوو احلي مسا كيفك</td>\n",
              "      <td>1</td>\n",
              "    </tr>\n",
              "    <tr>\n",
              "      <th>113742</th>\n",
              "      <td>113742</td>\n",
              "      <td>وين المعلومات يبعتلو مليون عله</td>\n",
              "      <td>1</td>\n",
              "    </tr>\n",
              "    <tr>\n",
              "      <th>60987</th>\n",
              "      <td>60987</td>\n",
              "      <td>قليل ادب نقطه</td>\n",
              "      <td>0</td>\n",
              "    </tr>\n",
              "    <tr>\n",
              "      <th>142122</th>\n",
              "      <td>142122</td>\n",
              "      <td>وليه قدري راميني زولا مجافيني يسافر يخليني اشوف حظي وسنيني حليلها والله الحتقول الكلام دا الجبنه وانا مطار الخرطوم</td>\n",
              "      <td>4</td>\n",
              "    </tr>\n",
              "    <tr>\n",
              "      <th>140341</th>\n",
              "      <td>140341</td>\n",
              "      <td>دي سخانه اتحركو الله</td>\n",
              "      <td>4</td>\n",
              "    </tr>\n",
              "    <tr>\n",
              "      <th>83314</th>\n",
              "      <td>83314</td>\n",
              "      <td>وكنا عوزين نعرف مين التلاته اربعه اللي فالحاره المذنوقه</td>\n",
              "      <td>0</td>\n",
              "    </tr>\n",
              "    <tr>\n",
              "      <th>12380</th>\n",
              "      <td>12380</td>\n",
              "      <td>امعيلف قال نرجاا فييهم نخش تويتر نشوف نوع تويتات نقعد نقول علي اللحن يجرواا بييهم</td>\n",
              "      <td>2</td>\n",
              "    </tr>\n",
              "    <tr>\n",
              "      <th>37658</th>\n",
              "      <td>37658</td>\n",
              "      <td>اكلكالمفضلالخبزاوالرز الي ماجرب الطبخ المغربي مااعتقد حس بشنو تعنيه كلمه لذييذ</td>\n",
              "      <td>3</td>\n",
              "    </tr>\n",
              "    <tr>\n",
              "      <th>130941</th>\n",
              "      <td>130941</td>\n",
              "      <td>بتصور اما الانتخابات او امر بقي عم نشوف عدل وحق</td>\n",
              "      <td>1</td>\n",
              "    </tr>\n",
              "    <tr>\n",
              "      <th>38130</th>\n",
              "      <td>38130</td>\n",
              "      <td>شحال هدي مكنوش مصلين عليها صلاه الجنازه والبارح قامو بصلاه</td>\n",
              "      <td>3</td>\n",
              "    </tr>\n",
              "    <tr>\n",
              "      <th>96592</th>\n",
              "      <td>96592</td>\n",
              "      <td>مكتوبه بلكونه الشغل اقسم بالله</td>\n",
              "      <td>0</td>\n",
              "    </tr>\n",
              "    <tr>\n",
              "      <th>78051</th>\n",
              "      <td>78051</td>\n",
              "      <td>باظ السوكسيه بتاع ده تشيك خالص الجول ده مالحقناش نفرح بيه</td>\n",
              "      <td>0</td>\n",
              "    </tr>\n",
              "    <tr>\n",
              "      <th>84150</th>\n",
              "      <td>84150</td>\n",
              "      <td>للاسف وترزيجيه مش واخدين حقهم اعلاميا</td>\n",
              "      <td>0</td>\n",
              "    </tr>\n",
              "    <tr>\n",
              "      <th>11805</th>\n",
              "      <td>11805</td>\n",
              "      <td>مش هدا القبيل</td>\n",
              "      <td>2</td>\n",
              "    </tr>\n",
              "    <tr>\n",
              "      <th>65334</th>\n",
              "      <td>65334</td>\n",
              "      <td>خر وشك تعرف تكتب عربي ابقا كلمني ياحيوان روح شوف اتجوزه</td>\n",
              "      <td>0</td>\n",
              "    </tr>\n",
              "    <tr>\n",
              "      <th>6854</th>\n",
              "      <td>6854</td>\n",
              "      <td>انا فزت تغيرات المود</td>\n",
              "      <td>2</td>\n",
              "    </tr>\n",
              "    <tr>\n",
              "      <th>29136</th>\n",
              "      <td>29136</td>\n",
              "      <td>نضربكب خليفه البشباش نخليك تقول وين الناتوو هه تاق باش ماتنكتيش عليا قرمه</td>\n",
              "      <td>2</td>\n",
              "    </tr>\n",
              "    <tr>\n",
              "      <th>67514</th>\n",
              "      <td>67514</td>\n",
              "      <td>خالص ريحته ومش عاجبه كمان</td>\n",
              "      <td>0</td>\n",
              "    </tr>\n",
              "  </tbody>\n",
              "</table>\n",
              "</div>\n",
              "      <button class=\"colab-df-convert\" onclick=\"convertToInteractive('df-78a7d52d-af36-41ab-80e2-e14fc335305e')\"\n",
              "              title=\"Convert this dataframe to an interactive table.\"\n",
              "              style=\"display:none;\">\n",
              "        \n",
              "  <svg xmlns=\"http://www.w3.org/2000/svg\" height=\"24px\"viewBox=\"0 0 24 24\"\n",
              "       width=\"24px\">\n",
              "    <path d=\"M0 0h24v24H0V0z\" fill=\"none\"/>\n",
              "    <path d=\"M18.56 5.44l.94 2.06.94-2.06 2.06-.94-2.06-.94-.94-2.06-.94 2.06-2.06.94zm-11 1L8.5 8.5l.94-2.06 2.06-.94-2.06-.94L8.5 2.5l-.94 2.06-2.06.94zm10 10l.94 2.06.94-2.06 2.06-.94-2.06-.94-.94-2.06-.94 2.06-2.06.94z\"/><path d=\"M17.41 7.96l-1.37-1.37c-.4-.4-.92-.59-1.43-.59-.52 0-1.04.2-1.43.59L10.3 9.45l-7.72 7.72c-.78.78-.78 2.05 0 2.83L4 21.41c.39.39.9.59 1.41.59.51 0 1.02-.2 1.41-.59l7.78-7.78 2.81-2.81c.8-.78.8-2.07 0-2.86zM5.41 20L4 18.59l7.72-7.72 1.47 1.35L5.41 20z\"/>\n",
              "  </svg>\n",
              "      </button>\n",
              "      \n",
              "  <style>\n",
              "    .colab-df-container {\n",
              "      display:flex;\n",
              "      flex-wrap:wrap;\n",
              "      gap: 12px;\n",
              "    }\n",
              "\n",
              "    .colab-df-convert {\n",
              "      background-color: #E8F0FE;\n",
              "      border: none;\n",
              "      border-radius: 50%;\n",
              "      cursor: pointer;\n",
              "      display: none;\n",
              "      fill: #1967D2;\n",
              "      height: 32px;\n",
              "      padding: 0 0 0 0;\n",
              "      width: 32px;\n",
              "    }\n",
              "\n",
              "    .colab-df-convert:hover {\n",
              "      background-color: #E2EBFA;\n",
              "      box-shadow: 0px 1px 2px rgba(60, 64, 67, 0.3), 0px 1px 3px 1px rgba(60, 64, 67, 0.15);\n",
              "      fill: #174EA6;\n",
              "    }\n",
              "\n",
              "    [theme=dark] .colab-df-convert {\n",
              "      background-color: #3B4455;\n",
              "      fill: #D2E3FC;\n",
              "    }\n",
              "\n",
              "    [theme=dark] .colab-df-convert:hover {\n",
              "      background-color: #434B5C;\n",
              "      box-shadow: 0px 1px 3px 1px rgba(0, 0, 0, 0.15);\n",
              "      filter: drop-shadow(0px 1px 2px rgba(0, 0, 0, 0.3));\n",
              "      fill: #FFFFFF;\n",
              "    }\n",
              "  </style>\n",
              "\n",
              "      <script>\n",
              "        const buttonEl =\n",
              "          document.querySelector('#df-78a7d52d-af36-41ab-80e2-e14fc335305e button.colab-df-convert');\n",
              "        buttonEl.style.display =\n",
              "          google.colab.kernel.accessAllowed ? 'block' : 'none';\n",
              "\n",
              "        async function convertToInteractive(key) {\n",
              "          const element = document.querySelector('#df-78a7d52d-af36-41ab-80e2-e14fc335305e');\n",
              "          const dataTable =\n",
              "            await google.colab.kernel.invokeFunction('convertToInteractive',\n",
              "                                                     [key], {});\n",
              "          if (!dataTable) return;\n",
              "\n",
              "          const docLinkHtml = 'Like what you see? Visit the ' +\n",
              "            '<a target=\"_blank\" href=https://colab.research.google.com/notebooks/data_table.ipynb>data table notebook</a>'\n",
              "            + ' to learn more about interactive tables.';\n",
              "          element.innerHTML = '';\n",
              "          dataTable['output_type'] = 'display_data';\n",
              "          await google.colab.output.renderOutput(dataTable, element);\n",
              "          const docLink = document.createElement('div');\n",
              "          docLink.innerHTML = docLinkHtml;\n",
              "          element.appendChild(docLink);\n",
              "        }\n",
              "      </script>\n",
              "    </div>\n",
              "  </div>\n",
              "  "
            ]
          },
          "metadata": {},
          "execution_count": 33
        }
      ]
    },
    {
      "cell_type": "markdown",
      "source": [
        "## EDA"
      ],
      "metadata": {
        "id": "ltPi9KW1LlDB"
      }
    },
    {
      "cell_type": "code",
      "source": [
        "#words = [word for tokens in data[\"text\"] for word in tokens]\n",
        "words = str(data[\"text\"]).split()\n",
        "sentence_lens = [len(tokens) for tokens in data[\"text\"]]\n",
        "\n",
        "VOC = sorted(list(set(words)))\n",
        "\n",
        "print(\"%s words total, with a vocabulary size of %s\" % (len(words), len(VOC)))\n",
        "print(\"Max sentence length is %s\" % max(sentence_lens))"
      ],
      "metadata": {
        "colab": {
          "base_uri": "https://localhost:8080/"
        },
        "id": "mpHpRkN9Lmbu",
        "outputId": "94ce2b5d-0aab-4162-bae8-d90beac52312"
      },
      "execution_count": 34,
      "outputs": [
        {
          "output_type": "stream",
          "name": "stdout",
          "text": [
            "187 words total, with a vocabulary size of 171\n",
            "Max sentence length is 276\n"
          ]
        }
      ]
    },
    {
      "cell_type": "code",
      "source": [
        "counter = Counter(words)\n",
        "counter.most_common(30)"
      ],
      "metadata": {
        "colab": {
          "base_uri": "https://localhost:8080/"
        },
        "id": "FpF4oJrOLsh_",
        "outputId": "c21a6cb7-af81-4724-8103-89c047f7592a"
      },
      "execution_count": 35,
      "outputs": [
        {
          "output_type": "execute_result",
          "data": {
            "text/plain": [
              "[('دي', 3),\n",
              " ('زمان', 2),\n",
              " ('يلي', 2),\n",
              " ('علشان', 2),\n",
              " ('معندهش', 2),\n",
              " ('خوت', 2),\n",
              " ('متستحقش', 2),\n",
              " ('الف', 2),\n",
              " ('حساب', 2),\n",
              " ('بنت', 2),\n",
              " ('البلد', 2),\n",
              " ('ديل', 2),\n",
              " ('وين', 2),\n",
              " ('ياخي', 2),\n",
              " ('وراك', 2),\n",
              " ('0', 1),\n",
              " ('قليلين', 1),\n",
              " ('ادب', 1),\n",
              " ('ومنافقين', 1),\n",
              " ('اختهم', 1),\n",
              " ('او', 1),\n",
              " ('قريبتهم', 1),\n",
              " ('تتعاكس', 1),\n",
              " ('تقولي', 1),\n",
              " ('عليهم', 1),\n",
              " ('نشاط', 1),\n",
              " ('حقوق', 1),\n",
              " ('المراه', 1),\n",
              " ('رده', 1),\n",
              " ('فعلهم', 1)]"
            ]
          },
          "metadata": {},
          "execution_count": 35
        }
      ]
    },
    {
      "cell_type": "code",
      "source": [
        "words = []\n",
        "counts = []\n",
        "for letter, count in counter.most_common(25):\n",
        "    words.append(letter)\n",
        "    counts.append(count)\n",
        "    \n",
        "colors = cm.rainbow(np.linspace(0, 1, 10))\n",
        "plt.rcParams['figure.figsize'] = 20, 10\n",
        "\n",
        "plt.title('Top words in positive')\n",
        "plt.xlabel('Count')\n",
        "plt.ylabel('Words')\n",
        "plt.barh(words, counts, color=colors)"
      ],
      "metadata": {
        "colab": {
          "base_uri": "https://localhost:8080/",
          "height": 0
        },
        "id": "Xl-n_pHDMANR",
        "outputId": "9d7dbeb7-496d-44bd-c830-7c795c511f39"
      },
      "execution_count": 36,
      "outputs": [
        {
          "output_type": "execute_result",
          "data": {
            "text/plain": [
              "<BarContainer object of 25 artists>"
            ]
          },
          "metadata": {},
          "execution_count": 36
        },
        {
          "output_type": "display_data",
          "data": {
            "text/plain": [
              "<Figure size 2000x1000 with 1 Axes>"
            ],
            "image/png": "[encoded data removed]"
          },
          "metadata": {}
        }
      ]
    },
    {
      "cell_type": "code",
      "source": [
        "sns.countplot(data= data, x = \"dialect\")\n",
        "plt.show()"
      ],
      "metadata": {
        "id": "RdGpbY4eNfGg",
        "outputId": "8535a596-96e1-4fb3-ebb9-570ad21c4628",
        "colab": {
          "base_uri": "https://localhost:8080/",
          "height": 0
        }
      },
      "execution_count": 37,
      "outputs": [
        {
          "output_type": "display_data",
          "data": {
            "text/plain": [
              "<Figure size 2000x1000 with 1 Axes>"
            ],
            "image/png": "[encoded data removed]"
          },
          "metadata": {}
        }
      ]
    }
  ]
}