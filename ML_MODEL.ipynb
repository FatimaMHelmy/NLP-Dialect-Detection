{
  "cells": [
    {
      "cell_type": "code",
      "execution_count": 90,
      "metadata": {
        "colab": {
          "base_uri": "https://localhost:8080/"
        },
        "id": "RCm_ghxK0qL_",
        "outputId": "1c4bd27a-416c-4623-c0a4-2e4f265404e4"
      },
      "outputs": [
        {
          "name": "stderr",
          "output_type": "stream",
          "text": [
            "[nltk_data] Downloading package punkt to /root/nltk_data...\n",
            "[nltk_data]   Package punkt is already up-to-date!\n"
          ]
        },
        {
          "data": {
            "text/plain": [
              "True"
            ]
          },
          "execution_count": 90,
          "metadata": {},
          "output_type": "execute_result"
        }
      ],
      "source": [
        "import pandas as pd \n",
        "import nltk\n",
        "from sklearn.feature_extraction.text import TfidfVectorizer\n",
        "nltk.download('punkt')"
      ]
    },
    {
      "cell_type": "code",
      "execution_count": 88,
      "metadata": {
        "id": "9_5s87T705_A"
      },
      "outputs": [],
      "source": [
        "data = pd.read_csv(\"/content/drive/MyDrive/preprocessed_data.csv\")\n",
        "data = data.dropna()\n"
      ]
    },
    {
      "cell_type": "code",
      "execution_count": 72,
      "metadata": {
        "id": "a6Cf0gSWlclq"
      },
      "outputs": [],
      "source": [
        "sampled_data = data.sample(n=5000, random_state=42)"
      ]
    },
    {
      "cell_type": "code",
      "execution_count": 73,
      "metadata": {
        "colab": {
          "base_uri": "https://localhost:8080/",
          "height": 206
        },
        "id": "bI66pS821AYa",
        "outputId": "7f57d30c-8373-446b-fdf6-924a1c89e699"
      },
      "outputs": [
        {
          "data": {
            "text/html": [
              "\n",
              "  <div id=\"df-67912159-8000-4e7f-94fa-1254e33a13de\">\n",
              "    <div class=\"colab-df-container\">\n",
              "      <div>\n",
              "<style scoped>\n",
              "    .dataframe tbody tr th:only-of-type {\n",
              "        vertical-align: middle;\n",
              "    }\n",
              "\n",
              "    .dataframe tbody tr th {\n",
              "        vertical-align: top;\n",
              "    }\n",
              "\n",
              "    .dataframe thead th {\n",
              "        text-align: right;\n",
              "    }\n",
              "</style>\n",
              "<table border=\"1\" class=\"dataframe\">\n",
              "  <thead>\n",
              "    <tr style=\"text-align: right;\">\n",
              "      <th></th>\n",
              "      <th>Unnamed: 0</th>\n",
              "      <th>text</th>\n",
              "      <th>dialect</th>\n",
              "    </tr>\n",
              "  </thead>\n",
              "  <tbody>\n",
              "    <tr>\n",
              "      <th>25652</th>\n",
              "      <td>25652</td>\n",
              "      <td>يمكن تستغرب شء</td>\n",
              "      <td>2</td>\n",
              "    </tr>\n",
              "    <tr>\n",
              "      <th>52025</th>\n",
              "      <td>52025</td>\n",
              "      <td>خلصتي ولسه بتسقطي دي هوايه عندك بقي</td>\n",
              "      <td>0</td>\n",
              "    </tr>\n",
              "    <tr>\n",
              "      <th>5368</th>\n",
              "      <td>5368</td>\n",
              "      <td>صارت معايا مره</td>\n",
              "      <td>2</td>\n",
              "    </tr>\n",
              "    <tr>\n",
              "      <th>37970</th>\n",
              "      <td>37970</td>\n",
              "      <td>ومال تماره راه اغلب كانو الرباط شرو تماره بحكم...</td>\n",
              "      <td>3</td>\n",
              "    </tr>\n",
              "    <tr>\n",
              "      <th>117693</th>\n",
              "      <td>117693</td>\n",
              "      <td>الله يلعن السياسه يللي بتبعد الشرفاء بالبلد هي...</td>\n",
              "      <td>1</td>\n",
              "    </tr>\n",
              "  </tbody>\n",
              "</table>\n",
              "</div>\n",
              "      <button class=\"colab-df-convert\" onclick=\"convertToInteractive('df-67912159-8000-4e7f-94fa-1254e33a13de')\"\n",
              "              title=\"Convert this dataframe to an interactive table.\"\n",
              "              style=\"display:none;\">\n",
              "        \n",
              "  <svg xmlns=\"http://www.w3.org/2000/svg\" height=\"24px\"viewBox=\"0 0 24 24\"\n",
              "       width=\"24px\">\n",
              "    <path d=\"M0 0h24v24H0V0z\" fill=\"none\"/>\n",
              "    <path d=\"M18.56 5.44l.94 2.06.94-2.06 2.06-.94-2.06-.94-.94-2.06-.94 2.06-2.06.94zm-11 1L8.5 8.5l.94-2.06 2.06-.94-2.06-.94L8.5 2.5l-.94 2.06-2.06.94zm10 10l.94 2.06.94-2.06 2.06-.94-2.06-.94-.94-2.06-.94 2.06-2.06.94z\"/><path d=\"M17.41 7.96l-1.37-1.37c-.4-.4-.92-.59-1.43-.59-.52 0-1.04.2-1.43.59L10.3 9.45l-7.72 7.72c-.78.78-.78 2.05 0 2.83L4 21.41c.39.39.9.59 1.41.59.51 0 1.02-.2 1.41-.59l7.78-7.78 2.81-2.81c.8-.78.8-2.07 0-2.86zM5.41 20L4 18.59l7.72-7.72 1.47 1.35L5.41 20z\"/>\n",
              "  </svg>\n",
              "      </button>\n",
              "      \n",
              "  <style>\n",
              "    .colab-df-container {\n",
              "      display:flex;\n",
              "      flex-wrap:wrap;\n",
              "      gap: 12px;\n",
              "    }\n",
              "\n",
              "    .colab-df-convert {\n",
              "      background-color: #E8F0FE;\n",
              "      border: none;\n",
              "      border-radius: 50%;\n",
              "      cursor: pointer;\n",
              "      display: none;\n",
              "      fill: #1967D2;\n",
              "      height: 32px;\n",
              "      padding: 0 0 0 0;\n",
              "      width: 32px;\n",
              "    }\n",
              "\n",
              "    .colab-df-convert:hover {\n",
              "      background-color: #E2EBFA;\n",
              "      box-shadow: 0px 1px 2px rgba(60, 64, 67, 0.3), 0px 1px 3px 1px rgba(60, 64, 67, 0.15);\n",
              "      fill: #174EA6;\n",
              "    }\n",
              "\n",
              "    [theme=dark] .colab-df-convert {\n",
              "      background-color: #3B4455;\n",
              "      fill: #D2E3FC;\n",
              "    }\n",
              "\n",
              "    [theme=dark] .colab-df-convert:hover {\n",
              "      background-color: #434B5C;\n",
              "      box-shadow: 0px 1px 3px 1px rgba(0, 0, 0, 0.15);\n",
              "      filter: drop-shadow(0px 1px 2px rgba(0, 0, 0, 0.3));\n",
              "      fill: #FFFFFF;\n",
              "    }\n",
              "  </style>\n",
              "\n",
              "      <script>\n",
              "        const buttonEl =\n",
              "          document.querySelector('#df-67912159-8000-4e7f-94fa-1254e33a13de button.colab-df-convert');\n",
              "        buttonEl.style.display =\n",
              "          google.colab.kernel.accessAllowed ? 'block' : 'none';\n",
              "\n",
              "        async function convertToInteractive(key) {\n",
              "          const element = document.querySelector('#df-67912159-8000-4e7f-94fa-1254e33a13de');\n",
              "          const dataTable =\n",
              "            await google.colab.kernel.invokeFunction('convertToInteractive',\n",
              "                                                     [key], {});\n",
              "          if (!dataTable) return;\n",
              "\n",
              "          const docLinkHtml = 'Like what you see? Visit the ' +\n",
              "            '<a target=\"_blank\" href=https://colab.research.google.com/notebooks/data_table.ipynb>data table notebook</a>'\n",
              "            + ' to learn more about interactive tables.';\n",
              "          element.innerHTML = '';\n",
              "          dataTable['output_type'] = 'display_data';\n",
              "          await google.colab.output.renderOutput(dataTable, element);\n",
              "          const docLink = document.createElement('div');\n",
              "          docLink.innerHTML = docLinkHtml;\n",
              "          element.appendChild(docLink);\n",
              "        }\n",
              "      </script>\n",
              "    </div>\n",
              "  </div>\n",
              "  "
            ],
            "text/plain": [
              "        Unnamed: 0                                               text  dialect\n",
              "25652        25652                                     يمكن تستغرب شء        2\n",
              "52025        52025                خلصتي ولسه بتسقطي دي هوايه عندك بقي        0\n",
              "5368          5368                                     صارت معايا مره        2\n",
              "37970        37970  ومال تماره راه اغلب كانو الرباط شرو تماره بحكم...        3\n",
              "117693      117693  الله يلعن السياسه يللي بتبعد الشرفاء بالبلد هي...        1"
            ]
          },
          "execution_count": 73,
          "metadata": {},
          "output_type": "execute_result"
        }
      ],
      "source": [
        "sampled_data.head()"
      ]
    },
    {
      "cell_type": "code",
      "execution_count": 41,
      "metadata": {
        "colab": {
          "base_uri": "https://localhost:8080/"
        },
        "id": "vrP9rC48RRll",
        "outputId": "fd765449-44e1-4402-e4da-f1adb5ea30eb"
      },
      "outputs": [
        {
          "data": {
            "text/plain": [
              "(147642,)"
            ]
          },
          "execution_count": 41,
          "metadata": {},
          "output_type": "execute_result"
        }
      ],
      "source": [
        "data[\"dialect\"].shape"
      ]
    },
    {
      "attachments": {},
      "cell_type": "markdown",
      "metadata": {
        "id": "VFcPQx4w1Mkj"
      },
      "source": [
        "## WORD2VEC"
      ]
    },
    {
      "attachments": {},
      "cell_type": "markdown",
      "metadata": {
        "id": "IbYf3gz71YCO"
      },
      "source": [
        "1: using tfidf"
      ]
    },
    {
      "cell_type": "code",
      "execution_count": 43,
      "metadata": {
        "id": "ei4dJh3v1o3Q"
      },
      "outputs": [],
      "source": [
        "# tokenized_sentences = []\n",
        "# for sentence in sampled_data['text']:\n",
        "#     #print (sentence)\n",
        "#     tokens = nltk.word_tokenize(sentence)\n",
        "#     tokenized_sentences.append(tokens)\n"
      ]
    },
    {
      "cell_type": "code",
      "execution_count": 44,
      "metadata": {
        "id": "NHrgYr0_h7fQ"
      },
      "outputs": [],
      "source": [
        "# sampled_data['tokens'] = tokenized_sentences"
      ]
    },
    {
      "cell_type": "code",
      "execution_count": null,
      "metadata": {
        "id": "6nJPPhnLh_x2"
      },
      "outputs": [],
      "source": [
        "# sampled_data.head()"
      ]
    },
    {
      "cell_type": "code",
      "execution_count": 75,
      "metadata": {
        "id": "PGDJZFRi_bWr"
      },
      "outputs": [],
      "source": [
        "# TFIDF\n",
        "# vectorizer = TfidfVectorizer(lowercase=True)\n",
        "#X = vectorizer.fit_transform(sampled_data[\"text\"])"
      ]
    },
    {
      "cell_type": "code",
      "execution_count": 17,
      "metadata": {
        "id": "y5_yYTiQe_Ku"
      },
      "outputs": [],
      "source": [
        "# ## word2vec \n",
        "# from gensim.models import Word2Vec\n",
        "# model = Word2Vec(tokenized_sentences, vector_size=100, window=5, min_count=1, workers=4)\n",
        "# sentence_vectors = []\n",
        "# for tokens in tokenized_sentences:\n",
        "#     vector = sum([model.wv[word] for word in tokens]) / len(tokens)\n",
        "#     sentence_vectors.append(vector)\n"
      ]
    },
    {
      "attachments": {},
      "cell_type": "markdown",
      "metadata": {
        "id": "7eA1G3Fi5LF3"
      },
      "source": [
        "## MODEL "
      ]
    },
    {
      "cell_type": "code",
      "execution_count": 91,
      "metadata": {
        "id": "9UifC9K25HcH"
      },
      "outputs": [],
      "source": [
        "# SPLIT DATA\n",
        "from sklearn.model_selection import train_test_split\n",
        "train_X, test_X, train_y, test_y = train_test_split(data[\"text\"], data['dialect'], test_size=0.2, random_state=42)\n"
      ]
    },
    {
      "cell_type": "code",
      "execution_count": null,
      "metadata": {
        "id": "x5jR1LcE5gSp"
      },
      "outputs": [],
      "source": [
        "#                                            svc \n",
        "from sklearn.pipeline import Pipeline\n",
        "from sklearn.svm import SVC\n",
        "\n",
        "model = SVC(kernel='linear', C=1, gamma='auto')\n",
        "\n",
        "pipeline = Pipeline([\n",
        "    ('tfidf',  TfidfVectorizer()),\n",
        "    ('svc', model)\n",
        "])\n",
        "pipeline.fit(train_X, train_y)"
      ]
    },
    {
      "cell_type": "code",
      "execution_count": 84,
      "metadata": {
        "id": "dQwICACz6pEZ"
      },
      "outputs": [],
      "source": [
        "# evaluation\n",
        "from sklearn.metrics import classification_report\n",
        "predictions = pipeline.predict(test_X)"
      ]
    },
    {
      "cell_type": "code",
      "execution_count": 85,
      "metadata": {
        "colab": {
          "base_uri": "https://localhost:8080/"
        },
        "id": "meZqQURM7BY5",
        "outputId": "4b9fa0d0-ca3b-47a7-979a-09bf299f2023"
      },
      "outputs": [
        {
          "name": "stdout",
          "output_type": "stream",
          "text": [
            "              precision    recall  f1-score   support\n",
            "\n",
            "           0       0.73      0.90      0.80       398\n",
            "           1       0.78      0.66      0.72       182\n",
            "           2       0.64      0.72      0.68       244\n",
            "           3       0.79      0.45      0.57        85\n",
            "           4       0.86      0.33      0.48        91\n",
            "\n",
            "    accuracy                           0.72      1000\n",
            "   macro avg       0.76      0.61      0.65      1000\n",
            "weighted avg       0.73      0.72      0.71      1000\n",
            "\n"
          ]
        }
      ],
      "source": [
        "print(classification_report(test_y, predictions))\n"
      ]
    },
    {
      "cell_type": "code",
      "execution_count": 86,
      "metadata": {
        "colab": {
          "base_uri": "https://localhost:8080/"
        },
        "id": "fOeVMDIFsbD4",
        "outputId": "fb8a2ac0-6220-4942-eedd-de057d47d390"
      },
      "outputs": [
        {
          "data": {
            "text/plain": [
              "array([2, 1])"
            ]
          },
          "execution_count": 86,
          "metadata": {},
          "output_type": "execute_result"
        }
      ],
      "source": [
        "pipeline.predict([\"يمكن تستغرب شء\",\"الله يلعن السياسه يللي بتبعد الشرفاء بالبلد هي...\"])"
      ]
    }
  ],
  "metadata": {
    "accelerator": "GPU",
    "colab": {
      "gpuType": "T4",
      "provenance": []
    },
    "gpuClass": "standard",
    "kernelspec": {
      "display_name": "Python 3",
      "name": "python3"
    },
    "language_info": {
      "name": "python"
    }
  },
  "nbformat": 4,
  "nbformat_minor": 0
}
